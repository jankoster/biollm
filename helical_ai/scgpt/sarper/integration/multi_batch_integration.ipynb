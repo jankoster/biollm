{
  "cells": [
    {
      "cell_type": "markdown",
      "metadata": {
        "id": "yXsc6JTIw0HX"
      },
      "source": [
        "# Multi-batch integration - SKNSH & NBLW\n",
        "\n",
        "\n",
        "In this notebook, an [scGPT](https://www.nature.com/articles/s41592-024-02201-0) model is used to predict a cell type annotation with a given gene expression profile.\n",
        "\n",
        "This follows the tutorial from scGPT [here](https://github.com/bowang-lab/scGPT/blob/main/tutorials/Tutorial_Annotation.ipynb), but instead of fine-tuning the entire model, a smaller neural network is trained, using the embeddings of the gene expressions as inputs, to make a prediction.\n",
        "\n",
        "The same approach is made with the [Geneformer](https://www.nature.com/articles/s41586-023-06139-9.epdf?sharing_token=u_5LUGVkd3A8zR-f73lU59RgN0jAjWel9jnR3ZoTv0N2UB4yyXENUK50s6uqjXH69sDxh4Z3J4plYCKlVME-W2WSuRiS96vx6t5ex2-krVDS46JkoVvAvJyWtYXIyj74pDWn_DutZq1oAlDaxfvBpUfSKDdBPJ8SKlTId8uT47M%3D) model and the results are compared against each other.\n",
        "\n",
        "This approach greatly reduces time and complexity."
      ]
    },
    {
      "cell_type": "code",
      "execution_count": 1,
      "metadata": {},
      "outputs": [],
      "source": [
        "#!pip3 install helical\n",
        "#!conda install -c conda-forge louvain\n",
        "#!pip3 install datasets --upgrade"
      ]
    },
    {
      "cell_type": "code",
      "execution_count": 2,
      "metadata": {
        "colab": {
          "base_uri": "https://localhost:8080/"
        },
        "id": "aDf6LsRIZ80C",
        "outputId": "b7ef3182-a30f-4946-a2d5-72b6c9082b87"
      },
      "outputs": [
        {
          "name": "stderr",
          "output_type": "stream",
          "text": [
            "WARNING:py.warnings:/home/sarper_unix/miniconda3/envs/scgpt_env/lib/python3.12/site-packages/tqdm/auto.py:21: TqdmWarning: IProgress not found. Please update jupyter and ipywidgets. See https://ipywidgets.readthedocs.io/en/stable/user_install.html\n",
            "  from .autonotebook import tqdm as notebook_tqdm\n",
            "\n",
            "INFO:datasets:PyTorch version 2.6.0 available.\n"
          ]
        }
      ],
      "source": [
        "from sklearn.metrics import accuracy_score, precision_score, f1_score, recall_score\n",
        "from sklearn.preprocessing import LabelEncoder\n",
        "import numpy as np\n",
        "import pandas as pd\n",
        "from sklearn.model_selection import train_test_split\n",
        "import anndata as ad\n",
        "import torch\n",
        "from torch.utils.data import DataLoader, TensorDataset\n",
        "from torch import nn\n",
        "from scipy.sparse import lil_matrix\n",
        "import torch.optim as optim\n",
        "from helical.models.scgpt import scGPT, scGPTConfig\n",
        "from helical.models.geneformer import Geneformer, GeneformerConfig\n",
        "from copy import deepcopy\n",
        "from torch.nn.functional import one_hot\n",
        "import scanpy as sc"
      ]
    },
    {
      "cell_type": "markdown",
      "metadata": {
        "id": "vFOG8-j6T60M"
      },
      "source": [
        "Load target datasets"
      ]
    },
    {
      "cell_type": "code",
      "execution_count": 3,
      "metadata": {
        "id": "2j0ONmtAT60M",
        "outputId": "7cc43e59-a59d-41d5-e180-961ce15e2e00"
      },
      "outputs": [],
      "source": [
        "# Load SKNSH data\n",
        "adata_sknsh = sc.read_h5ad(\"210824_aumc00012sc_10k_scRNAseq.h5ad\")\n",
        "# Load NBLW data\n",
        "adata_nblw = sc.read_h5ad(\"210824_aumc00013sc_10k_scRNAseq.h5ad\")\n"
      ]
    },
    {
      "cell_type": "code",
      "execution_count": 4,
      "metadata": {},
      "outputs": [
        {
          "name": "stdout",
          "output_type": "stream",
          "text": [
            "  (0, 21)\t1.2734390177529604\n",
            "  (0, 27)\t0.6193426585042047\n",
            "  (0, 39)\t0.6193426585042047\n",
            "  (0, 40)\t0.6193426585042047\n",
            "  (0, 43)\t1.488586016192754\n",
            "  (0, 51)\t0.6193426585042047\n",
            "  (0, 53)\t1.488586016192754\n",
            "  (0, 63)\t0.6193426585042047\n",
            "  (0, 66)\t1.488586016192754\n",
            "  (0, 68)\t0.6193426585042047\n",
            "  (0, 78)\t1.488586016192754\n",
            "  (0, 86)\t0.6193426585042047\n",
            "  (0, 89)\t1.488586016192754\n",
            "  (0, 93)\t0.6193426585042047\n",
            "  (0, 98)\t0.6193426585042047\n",
            "  (0, 122)\t0.9989440544059085\n",
            "  (0, 132)\t1.2734390177529604\n",
            "  (0, 154)\t2.8504997381600052\n",
            "  (0, 157)\t0.6193426585042047\n",
            "  (0, 161)\t0.9989440544059085\n",
            "  (0, 172)\t0.6193426585042047\n",
            "  (0, 178)\t0.9989440544059085\n",
            "  (0, 185)\t0.6193426585042047\n",
            "  (0, 189)\t0.6193426585042047\n",
            "  (0, 190)\t1.488586016192754\n",
            "  :\t:\n",
            "  (2773, 33269)\t0.857014536025776\n",
            "  (2773, 33279)\t0.857014536025776\n",
            "  (2773, 33297)\t1.3116333579771218\n",
            "  (2773, 33304)\t1.3116333579771218\n",
            "  (2773, 33321)\t0.857014536025776\n",
            "  (2773, 33380)\t0.857014536025776\n",
            "  (2773, 33396)\t0.857014536025776\n",
            "  (2773, 33443)\t1.3116333579771218\n",
            "  (2773, 33446)\t0.857014536025776\n",
            "  (2773, 33470)\t0.857014536025776\n",
            "  (2773, 33479)\t0.857014536025776\n",
            "  (2773, 33490)\t0.857014536025776\n",
            "  (2773, 33493)\t0.857014536025776\n",
            "  (2773, 33496)\t5.237207730874275\n",
            "  (2773, 33497)\t4.490292810894649\n",
            "  (2773, 33498)\t4.95608105835317\n",
            "  (2773, 33499)\t4.897088593885689\n",
            "  (2773, 33501)\t5.251520535768412\n",
            "  (2773, 33502)\t5.456397315398438\n",
            "  (2773, 33503)\t4.823554940985914\n",
            "  (2773, 33504)\t2.212298887006504\n",
            "  (2773, 33505)\t4.993560594369393\n",
            "  (2773, 33506)\t3.471676656568074\n",
            "  (2773, 33507)\t1.3116333579771218\n",
            "  (2773, 33508)\t4.5635992219724075\n",
            "  (0, 21)\t3.0\n",
            "  (0, 27)\t1.0\n",
            "  (0, 39)\t1.0\n",
            "  (0, 40)\t1.0\n",
            "  (0, 43)\t4.0\n",
            "  (0, 51)\t1.0\n",
            "  (0, 53)\t4.0\n",
            "  (0, 63)\t1.0\n",
            "  (0, 66)\t4.0\n",
            "  (0, 68)\t1.0\n",
            "  (0, 78)\t4.0\n",
            "  (0, 86)\t1.0\n",
            "  (0, 89)\t4.0\n",
            "  (0, 93)\t1.0\n",
            "  (0, 98)\t1.0\n",
            "  (0, 122)\t2.0\n",
            "  (0, 132)\t3.0\n",
            "  (0, 154)\t19.0\n",
            "  (0, 157)\t1.0\n",
            "  (0, 161)\t2.0\n",
            "  (0, 172)\t1.0\n",
            "  (0, 178)\t2.0\n",
            "  (0, 185)\t1.0\n",
            "  (0, 189)\t1.0\n",
            "  (0, 190)\t4.0\n",
            "  :\t:\n",
            "  (2773, 33269)\t1.0\n",
            "  (2773, 33279)\t1.0\n",
            "  (2773, 33297)\t2.0\n",
            "  (2773, 33304)\t2.0\n",
            "  (2773, 33321)\t1.0\n",
            "  (2773, 33380)\t1.0\n",
            "  (2773, 33396)\t1.0\n",
            "  (2773, 33443)\t2.0\n",
            "  (2773, 33446)\t1.0\n",
            "  (2773, 33470)\t1.0\n",
            "  (2773, 33479)\t1.0\n",
            "  (2773, 33490)\t1.0\n",
            "  (2773, 33493)\t1.0\n",
            "  (2773, 33496)\t138.0\n",
            "  (2773, 33497)\t65.0\n",
            "  (2773, 33498)\t104.0\n",
            "  (2773, 33499)\t98.0\n",
            "  (2773, 33501)\t140.0\n",
            "  (2773, 33502)\t172.0\n",
            "  (2773, 33503)\t91.0\n",
            "  (2773, 33504)\t6.0\n",
            "  (2773, 33505)\t108.0\n",
            "  (2773, 33506)\t23.0\n",
            "  (2773, 33507)\t2.0\n",
            "  (2773, 33508)\t70.0\n"
          ]
        }
      ],
      "source": [
        "# Seurat to AnnData conversion can be tricky. Ensure that the raw counts are properly assigned. \n",
        "print(adata_sknsh.X)\n",
        "print(adata_sknsh.raw.X)"
      ]
    },
    {
      "cell_type": "code",
      "execution_count": 5,
      "metadata": {},
      "outputs": [
        {
          "name": "stdout",
          "output_type": "stream",
          "text": [
            "  (0, 26)\t1.0747923416924812\n",
            "  (0, 40)\t1.0747923416924812\n",
            "  (0, 53)\t1.0747923416924812\n",
            "  (0, 68)\t1.0747923416924812\n",
            "  (0, 93)\t1.0747923416924812\n",
            "  (0, 154)\t3.101138128720335\n",
            "  (0, 157)\t1.0747923416924812\n",
            "  (0, 178)\t1.5807851244880966\n",
            "  (0, 190)\t1.0747923416924812\n",
            "  (0, 201)\t1.9151789721909183\n",
            "  (0, 214)\t1.0747923416924812\n",
            "  (0, 229)\t1.0747923416924812\n",
            "  (0, 244)\t1.9151789721909183\n",
            "  (0, 259)\t1.0747923416924812\n",
            "  (0, 269)\t1.0747923416924812\n",
            "  (0, 412)\t1.9151789721909183\n",
            "  (0, 445)\t1.0747923416924812\n",
            "  (0, 465)\t1.5807851244880966\n",
            "  (0, 477)\t1.0747923416924812\n",
            "  (0, 483)\t1.0747923416924812\n",
            "  (0, 493)\t3.6785182246532266\n",
            "  (0, 503)\t1.0747923416924812\n",
            "  (0, 526)\t1.0747923416924812\n",
            "  (0, 546)\t1.9151789721909183\n",
            "  (0, 555)\t1.0747923416924812\n",
            "  :\t:\n",
            "  (2304, 33157)\t1.0662265400183246\n",
            "  (2304, 33158)\t1.0662265400183246\n",
            "  (2304, 33207)\t1.0662265400183246\n",
            "  (2304, 33209)\t1.0662265400183246\n",
            "  (2304, 33249)\t1.9040753629944949\n",
            "  (2304, 33297)\t2.5198228371001417\n",
            "  (2304, 33321)\t1.5704472242418266\n",
            "  (2304, 33326)\t1.0662265400183246\n",
            "  (2304, 33376)\t1.0662265400183246\n",
            "  (2304, 33394)\t1.5704472242418266\n",
            "  (2304, 33396)\t1.0662265400183246\n",
            "  (2304, 33443)\t1.5704472242418266\n",
            "  (2304, 33456)\t1.0662265400183246\n",
            "  (2304, 33470)\t1.0662265400183246\n",
            "  (2304, 33496)\t4.394261048175391\n",
            "  (2304, 33497)\t3.8838288401090963\n",
            "  (2304, 33498)\t4.779734634460983\n",
            "  (2304, 33499)\t4.968631609675062\n",
            "  (2304, 33501)\t5.508041243090605\n",
            "  (2304, 33502)\t5.213969636489122\n",
            "  (2304, 33503)\t4.185853154081331\n",
            "  (2304, 33504)\t1.0662265400183246\n",
            "  (2304, 33505)\t4.586235625918397\n",
            "  (2304, 33506)\t2.997929439049281\n",
            "  (2304, 33508)\t4.885854396788853\n",
            "  (0, 26)\t1.0\n",
            "  (0, 40)\t1.0\n",
            "  (0, 53)\t1.0\n",
            "  (0, 68)\t1.0\n",
            "  (0, 93)\t1.0\n",
            "  (0, 154)\t11.0\n",
            "  (0, 157)\t1.0\n",
            "  (0, 178)\t2.0\n",
            "  (0, 190)\t1.0\n",
            "  (0, 201)\t3.0\n",
            "  (0, 214)\t1.0\n",
            "  (0, 229)\t1.0\n",
            "  (0, 244)\t3.0\n",
            "  (0, 259)\t1.0\n",
            "  (0, 269)\t1.0\n",
            "  (0, 412)\t3.0\n",
            "  (0, 445)\t1.0\n",
            "  (0, 465)\t2.0\n",
            "  (0, 477)\t1.0\n",
            "  (0, 483)\t1.0\n",
            "  (0, 493)\t20.0\n",
            "  (0, 503)\t1.0\n",
            "  (0, 526)\t1.0\n",
            "  (0, 546)\t3.0\n",
            "  (0, 555)\t1.0\n",
            "  :\t:\n",
            "  (2304, 33157)\t1.0\n",
            "  (2304, 33158)\t1.0\n",
            "  (2304, 33207)\t1.0\n",
            "  (2304, 33209)\t1.0\n",
            "  (2304, 33249)\t3.0\n",
            "  (2304, 33297)\t6.0\n",
            "  (2304, 33321)\t2.0\n",
            "  (2304, 33326)\t1.0\n",
            "  (2304, 33376)\t1.0\n",
            "  (2304, 33394)\t2.0\n",
            "  (2304, 33396)\t1.0\n",
            "  (2304, 33443)\t2.0\n",
            "  (2304, 33456)\t1.0\n",
            "  (2304, 33470)\t1.0\n",
            "  (2304, 33496)\t42.0\n",
            "  (2304, 33497)\t25.0\n",
            "  (2304, 33498)\t62.0\n",
            "  (2304, 33499)\t75.0\n",
            "  (2304, 33501)\t129.0\n",
            "  (2304, 33502)\t96.0\n",
            "  (2304, 33503)\t34.0\n",
            "  (2304, 33504)\t1.0\n",
            "  (2304, 33505)\t51.0\n",
            "  (2304, 33506)\t10.0\n",
            "  (2304, 33508)\t69.0\n"
          ]
        }
      ],
      "source": [
        "# Seurat to AnnData conversion can be tricky. Ensure that the raw counts are properly assigned. \n",
        "print(adata_nblw.X)\n",
        "print(adata_nblw.raw.X)"
      ]
    },
    {
      "cell_type": "code",
      "execution_count": 6,
      "metadata": {},
      "outputs": [],
      "source": [
        "# Copy raw counts to adata.X if necessary\n",
        "adata_sknsh.X = adata_sknsh.raw.X.copy()\n",
        "adata_sknsh.var[\"gene_name\"] = adata_sknsh.var_names # \"Data must have the provided key 'gene_name' in its 'var' section to be processed by the Helical RNA model.\""
      ]
    },
    {
      "cell_type": "code",
      "execution_count": 7,
      "metadata": {},
      "outputs": [],
      "source": [
        "# Copy raw counts to adata.X if necessary\n",
        "adata_nblw.X = adata_nblw.raw.X.copy()\n",
        "adata_nblw.var[\"gene_name\"] = adata_nblw.var_names # \"Data must have the provided key 'gene_name' in its 'var' section to be processed by the Helical RNA model.\""
      ]
    },
    {
      "cell_type": "markdown",
      "metadata": {
        "id": "XME3WOUl-BSf"
      },
      "source": [
        "We are interested in the names of the cells we want to predict. They are saved in `adata.obs[\"active_ident_celltypes\"]`.\n",
        "\n",
        "Additionally, we need to know how many distinct cell types/classes we have."
      ]
    },
    {
      "cell_type": "code",
      "execution_count": 11,
      "metadata": {},
      "outputs": [
        {
          "data": {
            "application/vnd.microsoft.datawrangler.viewer.v0+json": {
              "columns": [
                {
                  "name": "index",
                  "rawType": "object",
                  "type": "string"
                },
                {
                  "name": "orig.ident",
                  "rawType": "int32",
                  "type": "integer"
                },
                {
                  "name": "nCount_RNA",
                  "rawType": "float64",
                  "type": "float"
                },
                {
                  "name": "nFeature_RNA",
                  "rawType": "int32",
                  "type": "integer"
                },
                {
                  "name": "percent.mt",
                  "rawType": "float64",
                  "type": "float"
                },
                {
                  "name": "S.Score",
                  "rawType": "float64",
                  "type": "float"
                },
                {
                  "name": "G2M.Score",
                  "rawType": "float64",
                  "type": "float"
                },
                {
                  "name": "Phase",
                  "rawType": "object",
                  "type": "string"
                },
                {
                  "name": "old.ident",
                  "rawType": "int32",
                  "type": "integer"
                }
              ],
              "ref": "e2c28983-9289-47ac-a6d1-56793189a018",
              "rows": [
                [
                  "-12sc_AAACCCAAGAAGCGAA-1",
                  "0",
                  "11659.0",
                  "3637",
                  "8.808645681447809",
                  "-0.27665238858159735",
                  "-0.41080282400533064",
                  "G1",
                  "0"
                ],
                [
                  "-12sc_AAACCCAAGGTAATCA-1",
                  "0",
                  "22215.0",
                  "5051",
                  "6.356065721359442",
                  "-0.13498680939306923",
                  "-0.16376755023809536",
                  "G1",
                  "0"
                ],
                [
                  "-12sc_AAACCCAAGTTACGAA-1",
                  "0",
                  "6705.0",
                  "2533",
                  "12.125279642058166",
                  "-0.22178253263829809",
                  "-0.26807939179544255",
                  "G1",
                  "0"
                ],
                [
                  "-12sc_AAACGAAAGAACTTCC-1",
                  "0",
                  "14121.0",
                  "3723",
                  "11.429785425961333",
                  "-0.29938370687681704",
                  "-0.3959873882758956",
                  "G1",
                  "0"
                ],
                [
                  "-12sc_AAACGCTAGTAAGCAT-1",
                  "0",
                  "22095.0",
                  "4660",
                  "8.182846797918081",
                  "-0.3498280769473101",
                  "-0.3967628686031267",
                  "G1",
                  "0"
                ],
                [
                  "-12sc_AAACGCTCAAGGCGTA-1",
                  "0",
                  "7305.0",
                  "2484",
                  "15.97535934291581",
                  "0.06093237496421233",
                  "-0.25245912164133943",
                  "S",
                  "0"
                ],
                [
                  "-12sc_AAACGCTCACACACGC-1",
                  "0",
                  "9137.0",
                  "3103",
                  "11.458903359964978",
                  "-0.023487647053828997",
                  "-0.13015432479322486",
                  "G1",
                  "0"
                ],
                [
                  "-12sc_AAACGCTTCATGCGGC-1",
                  "0",
                  "6598.0",
                  "2409",
                  "16.67171870263716",
                  "-0.17322693832415",
                  "-0.3173130512968627",
                  "G1",
                  "0"
                ],
                [
                  "-12sc_AAACGCTTCGCCCAGA-1",
                  "0",
                  "10278.0",
                  "3296",
                  "12.988908347927614",
                  "0.11619458766652602",
                  "-0.0052493801476548585",
                  "S",
                  "0"
                ],
                [
                  "-12sc_AAAGAACAGAGAGCAA-1",
                  "0",
                  "5345.0",
                  "1940",
                  "15.940130963517307",
                  "-0.2760339239895284",
                  "-0.30016235834278837",
                  "G1",
                  "0"
                ],
                [
                  "-12sc_AAAGGATAGGTAGCCA-1",
                  "0",
                  "12312.0",
                  "3945",
                  "5.864197530864197",
                  "-0.030728922420582117",
                  "-0.2746580587792144",
                  "G1",
                  "0"
                ],
                [
                  "-12sc_AAAGGATAGTTGCTGT-1",
                  "0",
                  "6804.0",
                  "2828",
                  "6.775426219870664",
                  "-0.2694570449740463",
                  "0.017588950919001367",
                  "G2M",
                  "0"
                ],
                [
                  "-12sc_AAAGGGCAGAAATCCA-1",
                  "0",
                  "10548.0",
                  "3381",
                  "14.372392870686387",
                  "-0.25114830322030746",
                  "-0.32250562837302466",
                  "G1",
                  "0"
                ],
                [
                  "-12sc_AAAGGGCAGTCAAGCG-1",
                  "0",
                  "7998.0",
                  "2543",
                  "17.404351087771943",
                  "-0.20079290686609447",
                  "-0.27301261780111696",
                  "G1",
                  "0"
                ],
                [
                  "-12sc_AAAGGGCCAGAGATGC-1",
                  "0",
                  "15675.0",
                  "4277",
                  "11.821371610845295",
                  "0.04280607090332578",
                  "0.13711362785899328",
                  "G2M",
                  "0"
                ],
                [
                  "-12sc_AAAGGGCTCGCTGCGA-1",
                  "0",
                  "23841.0",
                  "4652",
                  "17.910322553584162",
                  "-0.35760193551500985",
                  "-0.3342530831720967",
                  "G1",
                  "0"
                ],
                [
                  "-12sc_AAAGGTAAGGCCTTCG-1",
                  "0",
                  "18666.0",
                  "4305",
                  "17.325618772099002",
                  "-0.38060297399937354",
                  "-0.4106234972313044",
                  "G1",
                  "0"
                ],
                [
                  "-12sc_AAAGTCCAGCATCTTG-1",
                  "0",
                  "10720.0",
                  "3451",
                  "14.822761194029852",
                  "0.28689338607180764",
                  "-0.011822550004837673",
                  "S",
                  "0"
                ],
                [
                  "-12sc_AAAGTCCAGTTCCTGA-1",
                  "0",
                  "9235.0",
                  "3198",
                  "11.889550622631294",
                  "-0.017924267610643307",
                  "0.17058196520131452",
                  "G2M",
                  "0"
                ],
                [
                  "-12sc_AAAGTCCCATGTACGT-1",
                  "0",
                  "6663.0",
                  "2373",
                  "13.987693231277202",
                  "-0.27205750194451384",
                  "-0.28168794006484577",
                  "G1",
                  "0"
                ],
                [
                  "-12sc_AAAGTCCTCGATCCCT-1",
                  "0",
                  "6330.0",
                  "2509",
                  "10.679304897314376",
                  "-0.025889568418709652",
                  "0.17224434862919197",
                  "G2M",
                  "0"
                ],
                [
                  "-12sc_AAAGTGAGTCGAGTGA-1",
                  "0",
                  "6958.0",
                  "2259",
                  "15.694164989939638",
                  "-0.1746497041759485",
                  "-0.3193355080689809",
                  "G1",
                  "0"
                ],
                [
                  "-12sc_AAAGTGAGTGAGGCAT-1",
                  "0",
                  "9045.0",
                  "3209",
                  "6.733001658374793",
                  "-0.31278922339716203",
                  "0.16207518073289828",
                  "G2M",
                  "0"
                ],
                [
                  "-12sc_AAAGTGATCACCCTTG-1",
                  "0",
                  "7032.0",
                  "2266",
                  "14.974402730375427",
                  "-0.31965321878135583",
                  "-0.3141371272207708",
                  "G1",
                  "0"
                ],
                [
                  "-12sc_AAAGTGATCCGGTAAT-1",
                  "0",
                  "9215.0",
                  "3030",
                  "14.432989690721648",
                  "0.12547300777969983",
                  "-0.08519511359208837",
                  "S",
                  "0"
                ],
                [
                  "-12sc_AAAGTGATCGCTCTCA-1",
                  "0",
                  "9395.0",
                  "3217",
                  "10.739755188930282",
                  "-0.08852051104627318",
                  "0.11008440518626428",
                  "G2M",
                  "0"
                ],
                [
                  "-12sc_AAATGGACAATTGCGT-1",
                  "0",
                  "9079.0",
                  "3001",
                  "12.8538385284723",
                  "-0.018912106292437836",
                  "0.21076064010905438",
                  "G2M",
                  "0"
                ],
                [
                  "-12sc_AACACACAGTTCTCTT-1",
                  "0",
                  "19827.0",
                  "5106",
                  "11.015282190951732",
                  "0.1421058815322247",
                  "0.40497578913623444",
                  "G2M",
                  "0"
                ],
                [
                  "-12sc_AACACACCAAGAGTTA-1",
                  "0",
                  "10684.0",
                  "3371",
                  "12.897791089479597",
                  "0.16050396854432047",
                  "-0.06108503700446821",
                  "S",
                  "0"
                ],
                [
                  "-12sc_AACACACGTCCTGTTC-1",
                  "0",
                  "8102.0",
                  "2763",
                  "12.66353986669958",
                  "0.20518832854355468",
                  "-0.11378674479518502",
                  "S",
                  "0"
                ],
                [
                  "-12sc_AACACACGTCGATTCA-1",
                  "0",
                  "11272.0",
                  "3581",
                  "13.28956706884315",
                  "0.11815638267601036",
                  "0.15351418594082555",
                  "G2M",
                  "0"
                ],
                [
                  "-12sc_AACACACGTGCATACT-1",
                  "0",
                  "7510.0",
                  "2616",
                  "13.075898801597868",
                  "0.02624097653339963",
                  "-0.2154671288819166",
                  "S",
                  "0"
                ],
                [
                  "-12sc_AACAGGGTCTTGGGCG-1",
                  "0",
                  "5692.0",
                  "2122",
                  "12.649332396345747",
                  "-0.29849026677428026",
                  "-0.3558226105218909",
                  "G1",
                  "0"
                ],
                [
                  "-12sc_AACCAACTCCTTATAC-1",
                  "0",
                  "6391.0",
                  "2404",
                  "9.46643717728055",
                  "0.25903584865783263",
                  "-0.2513588432259181",
                  "S",
                  "0"
                ],
                [
                  "-12sc_AACCACATCCATCACC-1",
                  "0",
                  "11555.0",
                  "3686",
                  "9.891821722198182",
                  "0.08955025827826829",
                  "0.08840119968386384",
                  "S",
                  "0"
                ],
                [
                  "-12sc_AACCATGAGATGATTG-1",
                  "0",
                  "9046.0",
                  "3153",
                  "11.021445942958213",
                  "-0.0020050299235098157",
                  "0.7379447608765398",
                  "G2M",
                  "0"
                ],
                [
                  "-12sc_AACCATGCAAACTAGA-1",
                  "0",
                  "9840.0",
                  "3396",
                  "7.510162601626017",
                  "-0.2595797044120574",
                  "0.0667533009322504",
                  "G2M",
                  "0"
                ],
                [
                  "-12sc_AACCATGGTGTAAATG-1",
                  "0",
                  "6628.0",
                  "2540",
                  "14.634882317441159",
                  "-0.07257662758957029",
                  "0.15574581649884123",
                  "G2M",
                  "0"
                ],
                [
                  "-12sc_AACCATGTCACTGATG-1",
                  "0",
                  "6103.0",
                  "2216",
                  "14.714075045059808",
                  "-0.1932979089002679",
                  "-0.2678620884819969",
                  "G1",
                  "0"
                ],
                [
                  "-12sc_AACCATGTCCAACCGG-1",
                  "0",
                  "7333.0",
                  "2621",
                  "14.577935360698213",
                  "-0.3273264072787391",
                  "-0.3405186922884162",
                  "G1",
                  "0"
                ],
                [
                  "-12sc_AACCATGTCCAACTAG-1",
                  "0",
                  "7218.0",
                  "2799",
                  "10.820171792740371",
                  "-0.24454838242050103",
                  "-0.28611660214229917",
                  "G1",
                  "0"
                ],
                [
                  "-12sc_AACCCAACAACGATCT-1",
                  "0",
                  "14489.0",
                  "4002",
                  "11.760646007315895",
                  "0.0761924966580198",
                  "0.3603233819638959",
                  "G2M",
                  "0"
                ],
                [
                  "-12sc_AACCTGAAGAGCAGTC-1",
                  "0",
                  "4401.0",
                  "1935",
                  "10.679391047489208",
                  "-0.172008422109826",
                  "0.16743662868480147",
                  "G2M",
                  "0"
                ],
                [
                  "-12sc_AACCTGACATCTCAAG-1",
                  "0",
                  "5817.0",
                  "2208",
                  "13.374591713941895",
                  "-0.26030537243564833",
                  "-0.25953202569030465",
                  "G1",
                  "0"
                ],
                [
                  "-12sc_AACCTGAGTGCTCCGA-1",
                  "0",
                  "9802.0",
                  "3321",
                  "14.088961436441544",
                  "0.14853250510832017",
                  "-0.14651773900930803",
                  "S",
                  "0"
                ],
                [
                  "-12sc_AACCTTTTCAAACCCA-1",
                  "0",
                  "16925.0",
                  "4632",
                  "9.813884785819793",
                  "0.00545965836160095",
                  "-0.03136362567648776",
                  "S",
                  "0"
                ],
                [
                  "-12sc_AACCTTTTCGAACACT-1",
                  "0",
                  "11075.0",
                  "3815",
                  "3.395033860045147",
                  "-0.10380531083043698",
                  "0.5263224779596928",
                  "G2M",
                  "0"
                ],
                [
                  "-12sc_AACCTTTTCGATCCCT-1",
                  "0",
                  "7042.0",
                  "2399",
                  "15.435955694405",
                  "-0.19614493756272666",
                  "-0.29448786882577727",
                  "G1",
                  "0"
                ],
                [
                  "-12sc_AACGTCAAGGATGGCT-1",
                  "0",
                  "9836.0",
                  "3089",
                  "14.233428222854819",
                  "-0.23080411861523553",
                  "-0.3783482906327058",
                  "G1",
                  "0"
                ],
                [
                  "-12sc_AACGTCAAGTGTACAA-1",
                  "0",
                  "16915.0",
                  "4342",
                  "14.572864321608039",
                  "-0.09167440145825606",
                  "0.251377907334",
                  "G2M",
                  "0"
                ]
              ],
              "shape": {
                "columns": 8,
                "rows": 2774
              }
            },
            "text/html": [
              "<div>\n",
              "<style scoped>\n",
              "    .dataframe tbody tr th:only-of-type {\n",
              "        vertical-align: middle;\n",
              "    }\n",
              "\n",
              "    .dataframe tbody tr th {\n",
              "        vertical-align: top;\n",
              "    }\n",
              "\n",
              "    .dataframe thead th {\n",
              "        text-align: right;\n",
              "    }\n",
              "</style>\n",
              "<table border=\"1\" class=\"dataframe\">\n",
              "  <thead>\n",
              "    <tr style=\"text-align: right;\">\n",
              "      <th></th>\n",
              "      <th>orig.ident</th>\n",
              "      <th>nCount_RNA</th>\n",
              "      <th>nFeature_RNA</th>\n",
              "      <th>percent.mt</th>\n",
              "      <th>S.Score</th>\n",
              "      <th>G2M.Score</th>\n",
              "      <th>Phase</th>\n",
              "      <th>old.ident</th>\n",
              "    </tr>\n",
              "  </thead>\n",
              "  <tbody>\n",
              "    <tr>\n",
              "      <th>-12sc_AAACCCAAGAAGCGAA-1</th>\n",
              "      <td>0</td>\n",
              "      <td>11659.0</td>\n",
              "      <td>3637</td>\n",
              "      <td>8.808646</td>\n",
              "      <td>-0.276652</td>\n",
              "      <td>-0.410803</td>\n",
              "      <td>G1</td>\n",
              "      <td>0</td>\n",
              "    </tr>\n",
              "    <tr>\n",
              "      <th>-12sc_AAACCCAAGGTAATCA-1</th>\n",
              "      <td>0</td>\n",
              "      <td>22215.0</td>\n",
              "      <td>5051</td>\n",
              "      <td>6.356066</td>\n",
              "      <td>-0.134987</td>\n",
              "      <td>-0.163768</td>\n",
              "      <td>G1</td>\n",
              "      <td>0</td>\n",
              "    </tr>\n",
              "    <tr>\n",
              "      <th>-12sc_AAACCCAAGTTACGAA-1</th>\n",
              "      <td>0</td>\n",
              "      <td>6705.0</td>\n",
              "      <td>2533</td>\n",
              "      <td>12.125280</td>\n",
              "      <td>-0.221783</td>\n",
              "      <td>-0.268079</td>\n",
              "      <td>G1</td>\n",
              "      <td>0</td>\n",
              "    </tr>\n",
              "    <tr>\n",
              "      <th>-12sc_AAACGAAAGAACTTCC-1</th>\n",
              "      <td>0</td>\n",
              "      <td>14121.0</td>\n",
              "      <td>3723</td>\n",
              "      <td>11.429785</td>\n",
              "      <td>-0.299384</td>\n",
              "      <td>-0.395987</td>\n",
              "      <td>G1</td>\n",
              "      <td>0</td>\n",
              "    </tr>\n",
              "    <tr>\n",
              "      <th>-12sc_AAACGCTAGTAAGCAT-1</th>\n",
              "      <td>0</td>\n",
              "      <td>22095.0</td>\n",
              "      <td>4660</td>\n",
              "      <td>8.182847</td>\n",
              "      <td>-0.349828</td>\n",
              "      <td>-0.396763</td>\n",
              "      <td>G1</td>\n",
              "      <td>0</td>\n",
              "    </tr>\n",
              "    <tr>\n",
              "      <th>...</th>\n",
              "      <td>...</td>\n",
              "      <td>...</td>\n",
              "      <td>...</td>\n",
              "      <td>...</td>\n",
              "      <td>...</td>\n",
              "      <td>...</td>\n",
              "      <td>...</td>\n",
              "      <td>...</td>\n",
              "    </tr>\n",
              "    <tr>\n",
              "      <th>-12sc_TTTGGTTAGTTGTCAC-1</th>\n",
              "      <td>0</td>\n",
              "      <td>15085.0</td>\n",
              "      <td>4187</td>\n",
              "      <td>11.753397</td>\n",
              "      <td>-0.026960</td>\n",
              "      <td>0.426062</td>\n",
              "      <td>G2M</td>\n",
              "      <td>0</td>\n",
              "    </tr>\n",
              "    <tr>\n",
              "      <th>-12sc_TTTGTTGAGGGATCAC-1</th>\n",
              "      <td>0</td>\n",
              "      <td>8272.0</td>\n",
              "      <td>2817</td>\n",
              "      <td>14.047389</td>\n",
              "      <td>0.155354</td>\n",
              "      <td>0.065814</td>\n",
              "      <td>S</td>\n",
              "      <td>0</td>\n",
              "    </tr>\n",
              "    <tr>\n",
              "      <th>-12sc_TTTGTTGCACGAGAAC-1</th>\n",
              "      <td>0</td>\n",
              "      <td>5634.0</td>\n",
              "      <td>2057</td>\n",
              "      <td>13.223287</td>\n",
              "      <td>-0.302874</td>\n",
              "      <td>-0.341721</td>\n",
              "      <td>G1</td>\n",
              "      <td>0</td>\n",
              "    </tr>\n",
              "    <tr>\n",
              "      <th>-12sc_TTTGTTGCACTCAGAT-1</th>\n",
              "      <td>0</td>\n",
              "      <td>6006.0</td>\n",
              "      <td>2154</td>\n",
              "      <td>13.569764</td>\n",
              "      <td>-0.346256</td>\n",
              "      <td>-0.293528</td>\n",
              "      <td>G1</td>\n",
              "      <td>0</td>\n",
              "    </tr>\n",
              "    <tr>\n",
              "      <th>-12sc_TTTGTTGCAGGAACCA-1</th>\n",
              "      <td>0</td>\n",
              "      <td>7374.0</td>\n",
              "      <td>2683</td>\n",
              "      <td>13.791701</td>\n",
              "      <td>0.002069</td>\n",
              "      <td>-0.014697</td>\n",
              "      <td>S</td>\n",
              "      <td>0</td>\n",
              "    </tr>\n",
              "  </tbody>\n",
              "</table>\n",
              "<p>2774 rows × 8 columns</p>\n",
              "</div>"
            ],
            "text/plain": [
              "                          orig.ident  nCount_RNA  nFeature_RNA  percent.mt  \\\n",
              "-12sc_AAACCCAAGAAGCGAA-1           0     11659.0          3637    8.808646   \n",
              "-12sc_AAACCCAAGGTAATCA-1           0     22215.0          5051    6.356066   \n",
              "-12sc_AAACCCAAGTTACGAA-1           0      6705.0          2533   12.125280   \n",
              "-12sc_AAACGAAAGAACTTCC-1           0     14121.0          3723   11.429785   \n",
              "-12sc_AAACGCTAGTAAGCAT-1           0     22095.0          4660    8.182847   \n",
              "...                              ...         ...           ...         ...   \n",
              "-12sc_TTTGGTTAGTTGTCAC-1           0     15085.0          4187   11.753397   \n",
              "-12sc_TTTGTTGAGGGATCAC-1           0      8272.0          2817   14.047389   \n",
              "-12sc_TTTGTTGCACGAGAAC-1           0      5634.0          2057   13.223287   \n",
              "-12sc_TTTGTTGCACTCAGAT-1           0      6006.0          2154   13.569764   \n",
              "-12sc_TTTGTTGCAGGAACCA-1           0      7374.0          2683   13.791701   \n",
              "\n",
              "                           S.Score  G2M.Score Phase  old.ident  \n",
              "-12sc_AAACCCAAGAAGCGAA-1 -0.276652  -0.410803    G1          0  \n",
              "-12sc_AAACCCAAGGTAATCA-1 -0.134987  -0.163768    G1          0  \n",
              "-12sc_AAACCCAAGTTACGAA-1 -0.221783  -0.268079    G1          0  \n",
              "-12sc_AAACGAAAGAACTTCC-1 -0.299384  -0.395987    G1          0  \n",
              "-12sc_AAACGCTAGTAAGCAT-1 -0.349828  -0.396763    G1          0  \n",
              "...                            ...        ...   ...        ...  \n",
              "-12sc_TTTGGTTAGTTGTCAC-1 -0.026960   0.426062   G2M          0  \n",
              "-12sc_TTTGTTGAGGGATCAC-1  0.155354   0.065814     S          0  \n",
              "-12sc_TTTGTTGCACGAGAAC-1 -0.302874  -0.341721    G1          0  \n",
              "-12sc_TTTGTTGCACTCAGAT-1 -0.346256  -0.293528    G1          0  \n",
              "-12sc_TTTGTTGCAGGAACCA-1  0.002069  -0.014697     S          0  \n",
              "\n",
              "[2774 rows x 8 columns]"
            ]
          },
          "execution_count": 11,
          "metadata": {},
          "output_type": "execute_result"
        }
      ],
      "source": [
        "adata_sknsh.obs\n"
      ]
    },
    {
      "cell_type": "code",
      "execution_count": 12,
      "metadata": {},
      "outputs": [
        {
          "data": {
            "application/vnd.microsoft.datawrangler.viewer.v0+json": {
              "columns": [
                {
                  "name": "index",
                  "rawType": "object",
                  "type": "string"
                },
                {
                  "name": "vst.mean",
                  "rawType": "float64",
                  "type": "float"
                },
                {
                  "name": "vst.variance",
                  "rawType": "float64",
                  "type": "float"
                },
                {
                  "name": "vst.variance.expected",
                  "rawType": "float64",
                  "type": "float"
                },
                {
                  "name": "vst.variance.standardized",
                  "rawType": "float64",
                  "type": "float"
                },
                {
                  "name": "vst.variable",
                  "rawType": "int32",
                  "type": "integer"
                },
                {
                  "name": "gene_name",
                  "rawType": "object",
                  "type": "string"
                }
              ],
              "ref": "2fce59f8-1cf7-4147-b71b-ffb71127c746",
              "rows": [
                [
                  "MIR1302-2HG",
                  "0.0",
                  "0.0",
                  "0.0",
                  "0.0",
                  "0",
                  "MIR1302-2HG"
                ],
                [
                  "FAM138A",
                  "0.0",
                  "0.0",
                  "0.0",
                  "0.0",
                  "0",
                  "FAM138A"
                ],
                [
                  "OR4F5",
                  "0.0",
                  "0.0",
                  "0.0",
                  "0.0",
                  "0",
                  "OR4F5"
                ],
                [
                  "AL627309.1",
                  "0.002883922134102379",
                  "0.0028766421287151752",
                  "0.0029398055646428197",
                  "0.9785144171821043",
                  "0",
                  "AL627309.1"
                ],
                [
                  "AL627309.3",
                  "0.0",
                  "0.0",
                  "0.0",
                  "0.0",
                  "0",
                  "AL627309.3"
                ],
                [
                  "AL627309.2",
                  "0.0",
                  "0.0",
                  "0.0",
                  "0.0",
                  "0",
                  "AL627309.2"
                ],
                [
                  "AL627309.4",
                  "0.0",
                  "0.0",
                  "0.0",
                  "0.0",
                  "0",
                  "AL627309.4"
                ],
                [
                  "AL732372.1",
                  "0.0",
                  "0.0",
                  "0.0",
                  "0.0",
                  "0",
                  "AL732372.1"
                ],
                [
                  "OR4F29",
                  "0.0",
                  "0.0",
                  "0.0",
                  "0.0",
                  "0",
                  "OR4F29"
                ],
                [
                  "AC114498.1",
                  "0.0",
                  "0.0",
                  "0.0",
                  "0.0",
                  "0",
                  "AC114498.1"
                ],
                [
                  "OR4F16",
                  "0.0",
                  "0.0",
                  "0.0",
                  "0.0",
                  "0",
                  "OR4F16"
                ],
                [
                  "AL669831.2",
                  "0.0",
                  "0.0",
                  "0.0",
                  "0.0",
                  "0",
                  "AL669831.2"
                ],
                [
                  "AL669831.5",
                  "0.026676279740447006",
                  "0.026695259754492252",
                  "0.028304957424700895",
                  "0.943130185781382",
                  "0",
                  "AL669831.5"
                ],
                [
                  "FAM87B",
                  "0.0",
                  "0.0",
                  "0.0",
                  "0.0",
                  "0",
                  "FAM87B"
                ],
                [
                  "LINC00115",
                  "0.0061283345349675555",
                  "0.006092974508801135",
                  "0.006317463409447346",
                  "0.9644653421639924",
                  "0",
                  "LINC00115"
                ],
                [
                  "FAM41C",
                  "0.010814708002883922",
                  "0.010701607919189856",
                  "0.011281280459356875",
                  "0.9486164232637061",
                  "0",
                  "FAM41C"
                ],
                [
                  "AL645608.7",
                  "0.0003604902667627974",
                  "0.00036049026676279744",
                  "0.00036054527757837997",
                  "0.9998474232807819",
                  "0",
                  "AL645608.7"
                ],
                [
                  "AL645608.3",
                  "0.083633741888969",
                  "0.09109158740777451",
                  "0.09010205390599091",
                  "1.0109823634299875",
                  "0",
                  "AL645608.3"
                ],
                [
                  "AL645608.5",
                  "0.01658255227108868",
                  "0.016313452071954525",
                  "0.01745738631005495",
                  "0.9344727659809225",
                  "0",
                  "AL645608.5"
                ],
                [
                  "AL645608.1",
                  "0.054434030281182405",
                  "0.05798069290571267",
                  "0.05829132739059046",
                  "0.9946709999791851",
                  "0",
                  "AL645608.1"
                ],
                [
                  "SAMD11",
                  "0.31218457101658253",
                  "0.4326174401369016",
                  "0.3688138971190275",
                  "1.172996580433321",
                  "1",
                  "SAMD11"
                ],
                [
                  "NOC2L",
                  "1.3121845710165825",
                  "1.7214742738909472",
                  "2.1049997311832085",
                  "0.8178026098480036",
                  "0",
                  "NOC2L"
                ],
                [
                  "KLHL17",
                  "0.07858687815428983",
                  "0.08037073947434696",
                  "0.08453830829627965",
                  "0.9507020082856805",
                  "0",
                  "KLHL17"
                ],
                [
                  "PLEKHN1",
                  "0.0014419610670511895",
                  "0.0021616415996147838",
                  "0.0014593245613342316",
                  "1.4812617130478756",
                  "1",
                  "PLEKHN1"
                ],
                [
                  "PERM1",
                  "0.003604902667627974",
                  "0.0035932026589699678",
                  "0.0036849039732093952",
                  "0.975114327291531",
                  "0",
                  "PERM1"
                ],
                [
                  "AL645608.8",
                  "0.0010814708002883922",
                  "0.0010806907997111918",
                  "0.0010917240493105505",
                  "0.9898937377020077",
                  "0",
                  "AL645608.8"
                ],
                [
                  "HES4",
                  "0.015861571737563085",
                  "0.022828016892732502",
                  "0.01668417361476528",
                  "1.3682437871858388",
                  "1",
                  "HES4"
                ],
                [
                  "ISG15",
                  "0.1377072819033886",
                  "0.16638868312762534",
                  "0.15212723346302656",
                  "1.0937468547869498",
                  "1",
                  "ISG15"
                ],
                [
                  "AL645608.2",
                  "0.0",
                  "0.0",
                  "0.0",
                  "0.0",
                  "0",
                  "AL645608.2"
                ],
                [
                  "AGRN",
                  "0.1791636625811103",
                  "0.22933849971049042",
                  "0.20211941243549802",
                  "1.1346683475229207",
                  "1",
                  "AGRN"
                ],
                [
                  "AL645608.9",
                  "0.0",
                  "0.0",
                  "0.0",
                  "0.0",
                  "0",
                  "AL645608.9"
                ],
                [
                  "RNF223",
                  "0.0007209805335255948",
                  "0.0007207205333331947",
                  "0.0007253579014161514",
                  "0.993606786285911",
                  "0",
                  "RNF223"
                ],
                [
                  "C1orf159",
                  "0.10273972602739725",
                  "0.10808480998275967",
                  "0.11139982158193795",
                  "0.9702422180565122",
                  "0",
                  "C1orf159"
                ],
                [
                  "LINC01342",
                  "0.0",
                  "0.0",
                  "0.0",
                  "0.0",
                  "0",
                  "LINC01342"
                ],
                [
                  "AL390719.2",
                  "0.0",
                  "0.0",
                  "0.0",
                  "0.0",
                  "0",
                  "AL390719.2"
                ],
                [
                  "TTLL10-AS1",
                  "0.0",
                  "0.0",
                  "0.0",
                  "0.0",
                  "0",
                  "TTLL10-AS1"
                ],
                [
                  "TTLL10",
                  "0.0003604902667627974",
                  "0.00036049026676279744",
                  "0.00036054527757837997",
                  "0.9998474232807819",
                  "0",
                  "TTLL10"
                ],
                [
                  "TNFRSF18",
                  "0.0003604902667627974",
                  "0.00036049026676279744",
                  "0.00036054527757837997",
                  "0.9998474232807819",
                  "0",
                  "TNFRSF18"
                ],
                [
                  "TNFRSF4",
                  "0.0",
                  "0.0",
                  "0.0",
                  "0.0",
                  "0",
                  "TNFRSF4"
                ],
                [
                  "SDF4",
                  "0.7876712328767124",
                  "1.1474714591288946",
                  "1.0914315691820442",
                  "1.051345307877452",
                  "1",
                  "SDF4"
                ],
                [
                  "B3GALT6",
                  "0.43871665465032444",
                  "0.5211257956330894",
                  "0.5419330685679923",
                  "0.9616054562053626",
                  "0",
                  "B3GALT6"
                ],
                [
                  "C1QTNF12",
                  "0.007570295602018745",
                  "0.008236936095332712",
                  "0.007835597128848",
                  "1.0512199593579308",
                  "1",
                  "C1QTNF12"
                ],
                [
                  "AL162741.1",
                  "0.001802451333813987",
                  "0.0017998513318899859",
                  "0.0018285031715605054",
                  "0.9843304402660306",
                  "0",
                  "AL162741.1"
                ],
                [
                  "UBE2J2",
                  "0.6860129776496035",
                  "0.8047303655004667",
                  "0.9206160817223434",
                  "0.874121559982885",
                  "0",
                  "UBE2J2"
                ],
                [
                  "LINC01786",
                  "0.001802451333813987",
                  "0.0017998513318899859",
                  "0.0018285031715605054",
                  "0.9843304402660306",
                  "0",
                  "LINC01786"
                ],
                [
                  "SCNN1D",
                  "0.005407354001441961",
                  "0.005380053981239948",
                  "0.005561041398700206",
                  "0.9674544020653109",
                  "0",
                  "SCNN1D"
                ],
                [
                  "ACAP3",
                  "0.24260994953136264",
                  "0.27325045220533395",
                  "0.2797900303237608",
                  "0.9766268365214468",
                  "0",
                  "ACAP3"
                ],
                [
                  "PUSL1",
                  "0.21052631578947367",
                  "0.22684912786835462",
                  "0.24038373203572175",
                  "0.9436958397610822",
                  "0",
                  "PUSL1"
                ],
                [
                  "INTS11",
                  "0.4808940158615717",
                  "0.5475973252220242",
                  "0.6024526062863411",
                  "0.9089467279385426",
                  "0",
                  "INTS11"
                ],
                [
                  "CPTP",
                  "0.13482335976928622",
                  "0.14193150502931323",
                  "0.1486899422487523",
                  "0.9545467762161628",
                  "0",
                  "CPTP"
                ]
              ],
              "shape": {
                "columns": 6,
                "rows": 33538
              }
            },
            "text/html": [
              "<div>\n",
              "<style scoped>\n",
              "    .dataframe tbody tr th:only-of-type {\n",
              "        vertical-align: middle;\n",
              "    }\n",
              "\n",
              "    .dataframe tbody tr th {\n",
              "        vertical-align: top;\n",
              "    }\n",
              "\n",
              "    .dataframe thead th {\n",
              "        text-align: right;\n",
              "    }\n",
              "</style>\n",
              "<table border=\"1\" class=\"dataframe\">\n",
              "  <thead>\n",
              "    <tr style=\"text-align: right;\">\n",
              "      <th></th>\n",
              "      <th>vst.mean</th>\n",
              "      <th>vst.variance</th>\n",
              "      <th>vst.variance.expected</th>\n",
              "      <th>vst.variance.standardized</th>\n",
              "      <th>vst.variable</th>\n",
              "      <th>gene_name</th>\n",
              "    </tr>\n",
              "  </thead>\n",
              "  <tbody>\n",
              "    <tr>\n",
              "      <th>MIR1302-2HG</th>\n",
              "      <td>0.000000</td>\n",
              "      <td>0.000000</td>\n",
              "      <td>0.000000</td>\n",
              "      <td>0.000000</td>\n",
              "      <td>0</td>\n",
              "      <td>MIR1302-2HG</td>\n",
              "    </tr>\n",
              "    <tr>\n",
              "      <th>FAM138A</th>\n",
              "      <td>0.000000</td>\n",
              "      <td>0.000000</td>\n",
              "      <td>0.000000</td>\n",
              "      <td>0.000000</td>\n",
              "      <td>0</td>\n",
              "      <td>FAM138A</td>\n",
              "    </tr>\n",
              "    <tr>\n",
              "      <th>OR4F5</th>\n",
              "      <td>0.000000</td>\n",
              "      <td>0.000000</td>\n",
              "      <td>0.000000</td>\n",
              "      <td>0.000000</td>\n",
              "      <td>0</td>\n",
              "      <td>OR4F5</td>\n",
              "    </tr>\n",
              "    <tr>\n",
              "      <th>AL627309.1</th>\n",
              "      <td>0.002884</td>\n",
              "      <td>0.002877</td>\n",
              "      <td>0.002940</td>\n",
              "      <td>0.978514</td>\n",
              "      <td>0</td>\n",
              "      <td>AL627309.1</td>\n",
              "    </tr>\n",
              "    <tr>\n",
              "      <th>AL627309.3</th>\n",
              "      <td>0.000000</td>\n",
              "      <td>0.000000</td>\n",
              "      <td>0.000000</td>\n",
              "      <td>0.000000</td>\n",
              "      <td>0</td>\n",
              "      <td>AL627309.3</td>\n",
              "    </tr>\n",
              "    <tr>\n",
              "      <th>...</th>\n",
              "      <td>...</td>\n",
              "      <td>...</td>\n",
              "      <td>...</td>\n",
              "      <td>...</td>\n",
              "      <td>...</td>\n",
              "      <td>...</td>\n",
              "    </tr>\n",
              "    <tr>\n",
              "      <th>AC233755.2</th>\n",
              "      <td>0.000000</td>\n",
              "      <td>0.000000</td>\n",
              "      <td>0.000000</td>\n",
              "      <td>0.000000</td>\n",
              "      <td>0</td>\n",
              "      <td>AC233755.2</td>\n",
              "    </tr>\n",
              "    <tr>\n",
              "      <th>AC233755.1</th>\n",
              "      <td>0.000000</td>\n",
              "      <td>0.000000</td>\n",
              "      <td>0.000000</td>\n",
              "      <td>0.000000</td>\n",
              "      <td>0</td>\n",
              "      <td>AC233755.1</td>\n",
              "    </tr>\n",
              "    <tr>\n",
              "      <th>AC240274.1</th>\n",
              "      <td>0.251622</td>\n",
              "      <td>0.277089</td>\n",
              "      <td>0.291116</td>\n",
              "      <td>0.951815</td>\n",
              "      <td>0</td>\n",
              "      <td>AC240274.1</td>\n",
              "    </tr>\n",
              "    <tr>\n",
              "      <th>AC213203.1</th>\n",
              "      <td>0.000000</td>\n",
              "      <td>0.000000</td>\n",
              "      <td>0.000000</td>\n",
              "      <td>0.000000</td>\n",
              "      <td>0</td>\n",
              "      <td>AC213203.1</td>\n",
              "    </tr>\n",
              "    <tr>\n",
              "      <th>FAM231C</th>\n",
              "      <td>0.000000</td>\n",
              "      <td>0.000000</td>\n",
              "      <td>0.000000</td>\n",
              "      <td>0.000000</td>\n",
              "      <td>0</td>\n",
              "      <td>FAM231C</td>\n",
              "    </tr>\n",
              "  </tbody>\n",
              "</table>\n",
              "<p>33538 rows × 6 columns</p>\n",
              "</div>"
            ],
            "text/plain": [
              "             vst.mean  vst.variance  vst.variance.expected  \\\n",
              "MIR1302-2HG  0.000000      0.000000               0.000000   \n",
              "FAM138A      0.000000      0.000000               0.000000   \n",
              "OR4F5        0.000000      0.000000               0.000000   \n",
              "AL627309.1   0.002884      0.002877               0.002940   \n",
              "AL627309.3   0.000000      0.000000               0.000000   \n",
              "...               ...           ...                    ...   \n",
              "AC233755.2   0.000000      0.000000               0.000000   \n",
              "AC233755.1   0.000000      0.000000               0.000000   \n",
              "AC240274.1   0.251622      0.277089               0.291116   \n",
              "AC213203.1   0.000000      0.000000               0.000000   \n",
              "FAM231C      0.000000      0.000000               0.000000   \n",
              "\n",
              "             vst.variance.standardized  vst.variable    gene_name  \n",
              "MIR1302-2HG                   0.000000             0  MIR1302-2HG  \n",
              "FAM138A                       0.000000             0      FAM138A  \n",
              "OR4F5                         0.000000             0        OR4F5  \n",
              "AL627309.1                    0.978514             0   AL627309.1  \n",
              "AL627309.3                    0.000000             0   AL627309.3  \n",
              "...                                ...           ...          ...  \n",
              "AC233755.2                    0.000000             0   AC233755.2  \n",
              "AC233755.1                    0.000000             0   AC233755.1  \n",
              "AC240274.1                    0.951815             0   AC240274.1  \n",
              "AC213203.1                    0.000000             0   AC213203.1  \n",
              "FAM231C                       0.000000             0      FAM231C  \n",
              "\n",
              "[33538 rows x 6 columns]"
            ]
          },
          "execution_count": 12,
          "metadata": {},
          "output_type": "execute_result"
        }
      ],
      "source": [
        "adata_sknsh.var"
      ]
    },
    {
      "cell_type": "markdown",
      "metadata": {
        "id": "HayHZKTC-BSi"
      },
      "source": [
        "Use the Helical package to get the embeddings of the gene expression profile.\n",
        "\n",
        "The only thing we need to specify is the column containing the names of the genes. (`gene_name` in this case)\n",
        "\n",
        "The resulting embeddings are the input features `x`."
      ]
    },
    {
      "cell_type": "markdown",
      "metadata": {
        "id": "_cXrEgxHC-Wi"
      },
      "source": [
        "# scGPT"
      ]
    },
    {
      "cell_type": "code",
      "execution_count": 13,
      "metadata": {},
      "outputs": [],
      "source": [
        "# TODO: Print progress of the function\n",
        "\n",
        "def scgpt_get_embeddings(adata, Normalize_SubsetHighlyVariable=False):\n",
        "    device = \"cuda\" if torch.cuda.is_available() else \"cpu\"\n",
        "\n",
        "    # Configure and initialize the scGPT model\n",
        "    scgpt_config = scGPTConfig(batch_size=50, device=device)\n",
        "    scgpt = scGPT(configurer = scgpt_config)\n",
        "\n",
        "    # Process the data for the scGPT model\n",
        "    if Normalize_SubsetHighlyVariable:\n",
        "        data_processed = scgpt.process_data(adata, gene_names = \"gene_name\", fine_tuning=True)\n",
        "    else:\n",
        "        data_processed = scgpt.process_data(adata, gene_names = \"gene_name\")\n",
        "\n",
        "    # Get embeddings\n",
        "    x_scgpt = scgpt.get_embeddings(data_processed)\n",
        "    \n",
        "    return x_scgpt"
      ]
    },
    {
      "cell_type": "code",
      "execution_count": 14,
      "metadata": {},
      "outputs": [
        {
          "name": "stderr",
          "output_type": "stream",
          "text": [
            "WARNING:py.warnings:/home/sarper_unix/miniconda3/envs/scgpt_env/lib/python3.12/site-packages/helical/models/scgpt/model_dir/transformer.py:135: UserWarning: enable_nested_tensor is True, but self.use_nested_tensor is False because encoder_layer was not TransformerEncoderLayer\n",
            "  warnings.warn(\n",
            "\n",
            "INFO:helical.models.scgpt.model:Model finished initializing.\n",
            "INFO:helical.models.scgpt.model:'scGPT' model is in 'eval' mode, on device 'cuda' with embedding mode 'cell'.\n",
            "INFO:helical.models.scgpt.model:Processing data for scGPT.\n",
            "INFO:helical.models.scgpt.model:Filtering out 10213 genes to a total of 23325 genes with an ID in the scGPT vocabulary.\n",
            "INFO:helical.models.scgpt.model:Successfully processed the data for scGPT.\n",
            "INFO:helical.models.scgpt.model:Started getting embeddings:\n",
            "WARNING:py.warnings:/home/sarper_unix/miniconda3/envs/scgpt_env/lib/python3.12/site-packages/helical/models/scgpt/model.py:157: FutureWarning: `torch.cuda.amp.autocast(args...)` is deprecated. Please use `torch.amp.autocast('cuda', args...)` instead.\n",
            "  torch.cuda.amp.autocast(enabled=True),\n",
            "\n",
            "Embedding cells: 100%|██████████| 56/56 [00:24<00:00,  2.25it/s]\n",
            "INFO:helical.models.scgpt.model:Finished getting embeddings.\n",
            "WARNING:py.warnings:/home/sarper_unix/miniconda3/envs/scgpt_env/lib/python3.12/site-packages/helical/models/scgpt/model_dir/transformer.py:135: UserWarning: enable_nested_tensor is True, but self.use_nested_tensor is False because encoder_layer was not TransformerEncoderLayer\n",
            "  warnings.warn(\n",
            "\n",
            "INFO:helical.models.scgpt.model:Model finished initializing.\n",
            "INFO:helical.models.scgpt.model:'scGPT' model is in 'eval' mode, on device 'cuda' with embedding mode 'cell'.\n",
            "INFO:helical.models.scgpt.model:Processing data for scGPT.\n",
            "INFO:helical.models.scgpt.model:Filtering out 10213 genes to a total of 23325 genes with an ID in the scGPT vocabulary.\n",
            "INFO:helical.models.scgpt.model:Successfully processed the data for scGPT.\n",
            "INFO:helical.models.scgpt.model:Started getting embeddings:\n",
            "WARNING:py.warnings:/home/sarper_unix/miniconda3/envs/scgpt_env/lib/python3.12/site-packages/helical/models/scgpt/model.py:157: FutureWarning: `torch.cuda.amp.autocast(args...)` is deprecated. Please use `torch.amp.autocast('cuda', args...)` instead.\n",
            "  torch.cuda.amp.autocast(enabled=True),\n",
            "\n",
            "Embedding cells: 100%|██████████| 47/47 [00:20<00:00,  2.32it/s]\n",
            "INFO:helical.models.scgpt.model:Finished getting embeddings.\n"
          ]
        },
        {
          "name": "stdout",
          "output_type": "stream",
          "text": [
            "(2774, 512)\n",
            "(2305, 512)\n"
          ]
        }
      ],
      "source": [
        "sknsh_scgpt_embeddings = scgpt_get_embeddings(adata_sknsh, Normalize_SubsetHighlyVariable=False)\n",
        "nblw_scgpt_embeddings = scgpt_get_embeddings(adata_nblw, Normalize_SubsetHighlyVariable=False)\n",
        "print(sknsh_scgpt_embeddings.shape)\n",
        "print(nblw_scgpt_embeddings.shape)"
      ]
    },
    {
      "cell_type": "markdown",
      "metadata": {
        "id": "YxtVwacW-BSj"
      },
      "source": [
        "With the input features, we also need the corresponding labels `y`.\n",
        "\n",
        "They correspond to the cell type labels.\n",
        "\n",
        "As we have a categorical prediction, we transform the cell type labels to integer labels to work with CrossEntropyLoss later."
      ]
    },
    {
      "cell_type": "markdown",
      "metadata": {},
      "source": [
        "# UMAP of embeddings"
      ]
    },
    {
      "cell_type": "code",
      "execution_count": 15,
      "metadata": {},
      "outputs": [],
      "source": [
        "whole_embeddings = np.concatenate((sknsh_scgpt_embeddings, nblw_scgpt_embeddings), axis=0)"
      ]
    },
    {
      "cell_type": "code",
      "execution_count": 29,
      "metadata": {},
      "outputs": [],
      "source": [
        "dataset_labels = np.concatenate((np.full(len(sknsh_scgpt_embeddings), 'sknsh'), np.full(len(nblw_scgpt_embeddings), 'nblw')))"
      ]
    },
    {
      "cell_type": "code",
      "execution_count": 31,
      "metadata": {},
      "outputs": [
        {
          "data": {
            "text/plain": [
              "array(['sknsh', 'sknsh', 'sknsh', ..., 'nblw', 'nblw', 'nblw'],\n",
              "      dtype='<U5')"
            ]
          },
          "execution_count": 31,
          "metadata": {},
          "output_type": "execute_result"
        }
      ],
      "source": [
        "dataset_labels"
      ]
    },
    {
      "cell_type": "code",
      "execution_count": 17,
      "metadata": {},
      "outputs": [],
      "source": [
        "# Install if not already installed\n",
        "# pip install umap-learn\n",
        "\n",
        "import umap\n",
        "import numpy as np\n",
        "import matplotlib.pyplot as plt\n",
        "from sklearn.datasets import load_digits\n",
        "import seaborn as sns"
      ]
    },
    {
      "cell_type": "code",
      "execution_count": 62,
      "metadata": {},
      "outputs": [
        {
          "name": "stdout",
          "output_type": "stream",
          "text": [
            "UMAP embedding shape: (5079, 2)\n"
          ]
        }
      ],
      "source": [
        "\n",
        "# Set seed\n",
        "np.random.seed(42)\n",
        "# Create UMAP reducer\n",
        "reducer = umap.UMAP(\n",
        "    n_neighbors=15,      # local neighborhood size\n",
        "    n_components=2,      # target dimensionality\n",
        "    min_dist=0.1,        # how tightly points are packed\n",
        "    metric='euclidean'   # distance metric\n",
        ")\n",
        "\n",
        "# Fit and transform data\n",
        "embedding = reducer.fit_transform(whole_embeddings)\n",
        "\n",
        "print(\"UMAP embedding shape:\", embedding.shape)\n"
      ]
    },
    {
      "cell_type": "code",
      "execution_count": 63,
      "metadata": {},
      "outputs": [
        {
          "data": {
            "image/png": "[encoded data removed]",
            "text/plain": [
              "<Figure size 640x480 with 1 Axes>"
            ]
          },
          "metadata": {},
          "output_type": "display_data"
        }
      ],
      "source": [
        "\n",
        "# Put into a DataFrame\n",
        "plot_df = pd.DataFrame({\n",
        "    \"x\": embedding[:, 0],\n",
        "    \"y\": embedding[:, 1],\n",
        "    \"category\": dataset_labels\n",
        "})\n",
        "\n",
        "# Scatter plot with automatic coloring by category\n",
        "sns.scatterplot(data=plot_df, x=\"x\", y=\"y\", hue=\"category\", s=50)\n",
        "\n",
        "plt.show()"
      ]
    },
    {
      "cell_type": "markdown",
      "metadata": {},
      "source": [
        "## Save embeddings in AnnData\n",
        "- "
      ]
    },
    {
      "cell_type": "code",
      "execution_count": 35,
      "metadata": {},
      "outputs": [
        {
          "data": {
            "text/plain": [
              "AnnData object with n_obs × n_vars = 2774 × 33538\n",
              "    obs: 'orig.ident', 'nCount_RNA', 'nFeature_RNA', 'percent.mt', 'S.Score', 'G2M.Score', 'Phase', 'old.ident', 'total_counts'\n",
              "    var: 'vst.mean', 'vst.variance', 'vst.variance.expected', 'vst.variance.standardized', 'vst.variable', 'gene_name', 'id_in_vocab'\n",
              "    obsm: 'X_pca'\n",
              "    varm: 'PCs'"
            ]
          },
          "execution_count": 35,
          "metadata": {},
          "output_type": "execute_result"
        }
      ],
      "source": [
        "adata_sknsh"
      ]
    },
    {
      "cell_type": "code",
      "execution_count": 42,
      "metadata": {},
      "outputs": [
        {
          "data": {
            "text/plain": [
              "array([1., 1., 1., 1., 1., 1., 1., 1., 1., 1., 1., 1., 1., 1., 1., 1., 1.,\n",
              "       1., 1., 1., 1., 1., 1., 1., 1., 1., 1., 1., 1., 1., 1., 1., 1., 1.,\n",
              "       1., 1., 1., 1., 1., 1., 1., 1., 1., 1., 1., 1., 1., 1., 1., 1., 1.,\n",
              "       1., 1., 1., 1., 1., 1., 1., 1., 1., 1., 1., 1., 1., 1., 1., 1., 1.,\n",
              "       1., 1., 1., 1., 1., 1., 1., 1., 1., 1., 1., 1., 1., 1., 1., 1., 1.,\n",
              "       1., 1., 1., 1., 1., 1., 1., 1., 1., 1., 1., 1., 1., 1., 1.])"
            ]
          },
          "execution_count": 42,
          "metadata": {},
          "output_type": "execute_result"
        }
      ],
      "source": [
        "np.ones(100)"
      ]
    },
    {
      "cell_type": "code",
      "execution_count": 39,
      "metadata": {},
      "outputs": [],
      "source": [
        "adata_sknsh.obsm['scgpt'] = sknsh_scgpt_embeddings"
      ]
    },
    {
      "cell_type": "code",
      "execution_count": 44,
      "metadata": {},
      "outputs": [],
      "source": [
        "adata_nblw.obsm['scgpt'] = nblw_scgpt_embeddings"
      ]
    },
    {
      "cell_type": "code",
      "execution_count": null,
      "metadata": {},
      "outputs": [
        {
          "name": "stderr",
          "output_type": "stream",
          "text": [
            "... storing 'Phase' as categorical\n"
          ]
        }
      ],
      "source": [
        "#adata_sknsh.write_h5ad(\"210824_aumc00012sc_10k_scRNAseq_scGPT.h5ad\")"
      ]
    },
    {
      "cell_type": "code",
      "execution_count": null,
      "metadata": {},
      "outputs": [
        {
          "name": "stderr",
          "output_type": "stream",
          "text": [
            "... storing 'Phase' as categorical\n"
          ]
        }
      ],
      "source": [
        "#adata_nblw.write_h5ad(\"210824_aumc00013sc_10k_scRNAseq_scGPT.h5ad\")"
      ]
    }
  ],
  "metadata": {
    "colab": {
      "provenance": []
    },
    "kernelspec": {
      "display_name": "scgpt_env",
      "language": "python",
      "name": "python3"
    },
    "language_info": {
      "codemirror_mode": {
        "name": "ipython",
        "version": 3
      },
      "file_extension": ".py",
      "mimetype": "text/x-python",
      "name": "python",
      "nbconvert_exporter": "python",
      "pygments_lexer": "ipython3",
      "version": "3.12.7"
    }
  },
  "nbformat": 4,
  "nbformat_minor": 0
}
