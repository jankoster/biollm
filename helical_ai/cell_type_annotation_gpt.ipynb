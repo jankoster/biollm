{
  "cells": [
    {
      "cell_type": "markdown",
      "metadata": {
        "id": "yXsc6JTIw0HX"
      },
      "source": [
        "# Cell type annotation prediction - Reference & Target\n",
        "\n",
        "\n",
        "In this notebook, an [scGPT](https://www.nature.com/articles/s41592-024-02201-0) model is used to predict a cell type annotation with a given gene expression profile.\n",
        "\n",
        "This follows the tutorial from scGPT [here](https://github.com/bowang-lab/scGPT/blob/main/tutorials/Tutorial_Annotation.ipynb), but instead of fine-tuning the entire model, a smaller neural network is trained, using the embeddings of the gene expressions as inputs, to make a prediction.\n",
        "\n",
        "The same approach is made with the [Geneformer](https://www.nature.com/articles/s41586-023-06139-9.epdf?sharing_token=u_5LUGVkd3A8zR-f73lU59RgN0jAjWel9jnR3ZoTv0N2UB4yyXENUK50s6uqjXH69sDxh4Z3J4plYCKlVME-W2WSuRiS96vx6t5ex2-krVDS46JkoVvAvJyWtYXIyj74pDWn_DutZq1oAlDaxfvBpUfSKDdBPJ8SKlTId8uT47M%3D) model and the results are compared against each other.\n",
        "\n",
        "This approach greatly reduces time and complexity."
      ]
    },
    {
      "cell_type": "code",
      "execution_count": 1,
      "metadata": {},
      "outputs": [],
      "source": [
        "#!pip3 install helical\n",
        "#!conda install -c conda-forge louvain\n",
        "#!pip3 install datasets --upgrade"
      ]
    },
    {
      "cell_type": "code",
      "execution_count": 2,
      "metadata": {
        "colab": {
          "base_uri": "https://localhost:8080/"
        },
        "id": "aDf6LsRIZ80C",
        "outputId": "b7ef3182-a30f-4946-a2d5-72b6c9082b87"
      },
      "outputs": [
        {
          "name": "stderr",
          "output_type": "stream",
          "text": [
            "WARNING:py.warnings:/home/lieke_unix/miniconda3/envs/singlecellgpt_env/lib/python3.12/site-packages/tqdm/auto.py:21: TqdmWarning: IProgress not found. Please update jupyter and ipywidgets. See https://ipywidgets.readthedocs.io/en/stable/user_install.html\n",
            "  from .autonotebook import tqdm as notebook_tqdm\n",
            "\n"
          ]
        }
      ],
      "source": [
        "from sklearn.metrics import accuracy_score, precision_score, f1_score, recall_score\n",
        "from sklearn.preprocessing import LabelEncoder\n",
        "import numpy as np\n",
        "import pandas as pd\n",
        "from sklearn.model_selection import train_test_split\n",
        "import anndata as ad\n",
        "import torch\n",
        "from torch.utils.data import DataLoader, TensorDataset\n",
        "from torch import nn\n",
        "from scipy.sparse import lil_matrix\n",
        "import torch.optim as optim\n",
        "from helical.models.scgpt import scGPT, scGPTConfig\n",
        "from helical.models.geneformer import Geneformer, GeneformerConfig\n",
        "from copy import deepcopy\n",
        "from torch.nn.functional import one_hot\n",
        "import scanpy as sc"
      ]
    },
    {
      "cell_type": "markdown",
      "metadata": {
        "id": "vFOG8-j6T60M"
      },
      "source": [
        "Fine-tuning data: Cell types"
      ]
    },
    {
      "cell_type": "code",
      "execution_count": 3,
      "metadata": {
        "id": "2j0ONmtAT60M",
        "outputId": "7cc43e59-a59d-41d5-e180-961ce15e2e00"
      },
      "outputs": [],
      "source": [
        "# Load fine-tuning data\n",
        "\n",
        "filename= \"jansky_adrenal_medulla.h5ad\"\n",
        "filename_target = \"chayenne_scRNAseq.h5ad\"\n",
        "ref_meta_colname = \"active_ident_celltypes\"\n",
        "adata = sc.read_h5ad(filename)\n",
        "filename_out_predictions = \"celltype_preds.csv\"\n"
      ]
    },
    {
      "cell_type": "code",
      "execution_count": 4,
      "metadata": {},
      "outputs": [
        {
          "name": "stdout",
          "output_type": "stream",
          "text": [
            "  (0, 17)\t1.5715039378205398\n",
            "  (0, 40)\t2.1549854987676813\n",
            "  (0, 46)\t1.5715039378205398\n",
            "  (0, 47)\t1.5715039378205398\n",
            "  (0, 48)\t1.5715039378205398\n",
            "  (0, 135)\t1.5715039378205398\n",
            "  (0, 143)\t1.5715039378205398\n",
            "  (0, 145)\t1.5715039378205398\n",
            "  (0, 161)\t2.9991968979101786\n",
            "  (0, 184)\t2.5210495220503306\n",
            "  (0, 186)\t1.5715039378205398\n",
            "  (0, 189)\t1.5715039378205398\n",
            "  (0, 215)\t1.5715039378205398\n",
            "  (0, 216)\t1.5715039378205398\n",
            "  (0, 229)\t2.1549854987676813\n",
            "  (0, 251)\t2.1549854987676813\n",
            "  (0, 253)\t1.5715039378205398\n",
            "  (0, 282)\t1.5715039378205398\n",
            "  (0, 289)\t2.1549854987676813\n",
            "  (0, 290)\t2.5210495220503306\n",
            "  (0, 300)\t1.5715039378205398\n",
            "  (0, 301)\t1.5715039378205398\n",
            "  (0, 333)\t1.5715039378205398\n",
            "  (0, 335)\t2.788433166553626\n",
            "  (0, 343)\t1.5715039378205398\n",
            "  :\t:\n",
            "  (10738, 25656)\t1.7414976344471669\n",
            "  (10738, 25678)\t1.7414976344471669\n",
            "  (10738, 25712)\t2.342936388517613\n",
            "  (10738, 25722)\t1.7414976344471669\n",
            "  (10738, 25733)\t2.715862740839004\n",
            "  (10738, 25757)\t1.7414976344471669\n",
            "  (10738, 25758)\t1.7414976344471669\n",
            "  (10738, 25776)\t1.7414976344471669\n",
            "  (10738, 25783)\t2.986869586296146\n",
            "  (10738, 25785)\t1.7414976344471669\n",
            "  (10738, 25812)\t1.7414976344471669\n",
            "  (10738, 25853)\t1.7414976344471669\n",
            "  (10738, 25868)\t2.342936388517613\n",
            "  (10738, 25928)\t2.715862740839004\n",
            "  (10738, 25974)\t2.342936388517613\n",
            "  (10738, 26000)\t1.7414976344471669\n",
            "  (10738, 26013)\t1.7414976344471669\n",
            "  (10738, 26017)\t1.7414976344471669\n",
            "  (10738, 26018)\t2.715862740839004\n",
            "  (10738, 26020)\t1.7414976344471669\n",
            "  (10738, 26021)\t1.7414976344471669\n",
            "  (10738, 26024)\t1.7414976344471669\n",
            "  (10738, 26032)\t1.7414976344471669\n",
            "  (10738, 26037)\t1.7414976344471669\n",
            "  (10738, 27323)\t1.7414976344471669\n",
            "  (0, 17)\t1.0\n",
            "  (0, 40)\t2.0\n",
            "  (0, 46)\t1.0\n",
            "  (0, 47)\t1.0\n",
            "  (0, 48)\t1.0\n",
            "  (0, 135)\t1.0\n",
            "  (0, 143)\t1.0\n",
            "  (0, 145)\t1.0\n",
            "  (0, 161)\t5.0\n",
            "  (0, 184)\t3.0\n",
            "  (0, 186)\t1.0\n",
            "  (0, 189)\t1.0\n",
            "  (0, 215)\t1.0\n",
            "  (0, 216)\t1.0\n",
            "  (0, 229)\t2.0\n",
            "  (0, 251)\t2.0\n",
            "  (0, 253)\t1.0\n",
            "  (0, 282)\t1.0\n",
            "  (0, 289)\t2.0\n",
            "  (0, 290)\t3.0\n",
            "  (0, 300)\t1.0\n",
            "  (0, 301)\t1.0\n",
            "  (0, 333)\t1.0\n",
            "  (0, 335)\t4.0\n",
            "  (0, 343)\t1.0\n",
            "  :\t:\n",
            "  (10738, 25656)\t1.0\n",
            "  (10738, 25678)\t1.0\n",
            "  (10738, 25712)\t2.0\n",
            "  (10738, 25722)\t1.0\n",
            "  (10738, 25733)\t3.0\n",
            "  (10738, 25757)\t1.0\n",
            "  (10738, 25758)\t1.0\n",
            "  (10738, 25776)\t1.0\n",
            "  (10738, 25783)\t4.0\n",
            "  (10738, 25785)\t1.0\n",
            "  (10738, 25812)\t1.0\n",
            "  (10738, 25853)\t1.0\n",
            "  (10738, 25868)\t2.0\n",
            "  (10738, 25928)\t3.0\n",
            "  (10738, 25974)\t2.0\n",
            "  (10738, 26000)\t1.0\n",
            "  (10738, 26013)\t1.0\n",
            "  (10738, 26017)\t1.0\n",
            "  (10738, 26018)\t3.0\n",
            "  (10738, 26020)\t1.0\n",
            "  (10738, 26021)\t1.0\n",
            "  (10738, 26024)\t1.0\n",
            "  (10738, 26032)\t1.0\n",
            "  (10738, 26037)\t1.0\n",
            "  (10738, 27323)\t1.0\n"
          ]
        }
      ],
      "source": [
        "# Seurat to AnnData conversion can be tricky. Ensure that the raw counts are properly assigned. \n",
        "print(adata.X)\n",
        "print(adata.raw.X)"
      ]
    },
    {
      "cell_type": "code",
      "execution_count": 5,
      "metadata": {},
      "outputs": [],
      "source": [
        "# Copy raw counts to adata.X if necessary\n",
        "adata.X = adata.raw.X.copy()\n",
        "adata.var[\"gene_name\"] = adata.var_names # \"Data must have the provided key 'gene_name' in its 'var' section to be processed by the Helical RNA model.\""
      ]
    },
    {
      "cell_type": "markdown",
      "metadata": {},
      "source": [
        "Randomly choose approx. 20% of patients to leave out for test set (final evaluation)."
      ]
    },
    {
      "cell_type": "code",
      "execution_count": 7,
      "metadata": {},
      "outputs": [
        {
          "name": "stdout",
          "output_type": "stream",
          "text": [
            "['13363', '13810', '14164']\n"
          ]
        }
      ],
      "source": [
        "import random\n",
        "\n",
        "  # unique patient ids\n",
        "unseen_patients = random.sample(list(set(adata.obs['orig.ident'])), 3)\n",
        "print(unseen_patients)\n",
        "\n",
        "adata_evaluation = adata[adata.obs[\"orig.ident\"].isin(unseen_patients)]\n",
        "adata_finetuning  = adata[~adata.obs[\"orig.ident\"].isin(unseen_patients)]\n"
      ]
    },
    {
      "cell_type": "markdown",
      "metadata": {
        "id": "XME3WOUl-BSf"
      },
      "source": [
        "We are interested in the names of the cells we want to predict. They are saved in `adata.obs[ref_meta_colname]`.\n",
        "\n",
        "Additionally, we need to know how many distinct cell types/classes we have."
      ]
    },
    {
      "cell_type": "code",
      "execution_count": 8,
      "metadata": {},
      "outputs": [
        {
          "data": {
            "text/html": [
              "<div>\n",
              "<style scoped>\n",
              "    .dataframe tbody tr th:only-of-type {\n",
              "        vertical-align: middle;\n",
              "    }\n",
              "\n",
              "    .dataframe tbody tr th {\n",
              "        vertical-align: top;\n",
              "    }\n",
              "\n",
              "    .dataframe thead th {\n",
              "        text-align: right;\n",
              "    }\n",
              "</style>\n",
              "<table border=\"1\" class=\"dataframe\">\n",
              "  <thead>\n",
              "    <tr style=\"text-align: right;\">\n",
              "      <th></th>\n",
              "      <th>orig.ident</th>\n",
              "      <th>nCount_RNA</th>\n",
              "      <th>nFeature_RNA</th>\n",
              "      <th>percent.mt</th>\n",
              "      <th>S.Score</th>\n",
              "      <th>G2M.Score</th>\n",
              "      <th>Phase</th>\n",
              "      <th>old.ident</th>\n",
              "      <th>CC.Difference</th>\n",
              "      <th>RNA_snn_res.1</th>\n",
              "      <th>...</th>\n",
              "      <th>DF.classifications_0.25_0.005_501</th>\n",
              "      <th>pANN_0.25_0.23_0</th>\n",
              "      <th>DF.classifications_0.25_0.23_0</th>\n",
              "      <th>pANN_0.25_0.24_1356</th>\n",
              "      <th>DF.classifications_0.25_0.24_1356</th>\n",
              "      <th>pANN_0.25_0.24_1085</th>\n",
              "      <th>DF.classifications_0.25_0.24_1085</th>\n",
              "      <th>RNA_snn_res.5</th>\n",
              "      <th>gland_clusters</th>\n",
              "      <th>active_ident_celltypes</th>\n",
              "    </tr>\n",
              "  </thead>\n",
              "  <tbody>\n",
              "    <tr>\n",
              "      <th>AAACCCACAGCTGAAG_1</th>\n",
              "      <td>14607</td>\n",
              "      <td>2622.0</td>\n",
              "      <td>1735</td>\n",
              "      <td>0.114416</td>\n",
              "      <td>-0.029956</td>\n",
              "      <td>-0.089442</td>\n",
              "      <td>G1</td>\n",
              "      <td>14607</td>\n",
              "      <td>0.059485</td>\n",
              "      <td>15</td>\n",
              "      <td>...</td>\n",
              "      <td>NA</td>\n",
              "      <td>NaN</td>\n",
              "      <td>NA</td>\n",
              "      <td>NaN</td>\n",
              "      <td>NA</td>\n",
              "      <td>NaN</td>\n",
              "      <td>NA</td>\n",
              "      <td>72</td>\n",
              "      <td>1</td>\n",
              "      <td>Bridge</td>\n",
              "    </tr>\n",
              "    <tr>\n",
              "      <th>AAACGCTCAGCAGATG_1</th>\n",
              "      <td>14607</td>\n",
              "      <td>1967.0</td>\n",
              "      <td>1271</td>\n",
              "      <td>0.152517</td>\n",
              "      <td>-0.045497</td>\n",
              "      <td>-0.046038</td>\n",
              "      <td>G1</td>\n",
              "      <td>14607</td>\n",
              "      <td>0.000541</td>\n",
              "      <td>15</td>\n",
              "      <td>...</td>\n",
              "      <td>NA</td>\n",
              "      <td>NaN</td>\n",
              "      <td>NA</td>\n",
              "      <td>NaN</td>\n",
              "      <td>NA</td>\n",
              "      <td>NaN</td>\n",
              "      <td>NA</td>\n",
              "      <td>21</td>\n",
              "      <td>1</td>\n",
              "      <td>connecting Chromaffin cells</td>\n",
              "    </tr>\n",
              "    <tr>\n",
              "      <th>AAACGCTGTCAAAGTA_1</th>\n",
              "      <td>14607</td>\n",
              "      <td>1984.0</td>\n",
              "      <td>1347</td>\n",
              "      <td>0.201613</td>\n",
              "      <td>0.087886</td>\n",
              "      <td>-0.057184</td>\n",
              "      <td>S</td>\n",
              "      <td>14607</td>\n",
              "      <td>0.145070</td>\n",
              "      <td>19</td>\n",
              "      <td>...</td>\n",
              "      <td>NA</td>\n",
              "      <td>NaN</td>\n",
              "      <td>NA</td>\n",
              "      <td>NaN</td>\n",
              "      <td>NA</td>\n",
              "      <td>NaN</td>\n",
              "      <td>NA</td>\n",
              "      <td>23</td>\n",
              "      <td>2</td>\n",
              "      <td>Neuroblasts</td>\n",
              "    </tr>\n",
              "    <tr>\n",
              "      <th>AAACGCTTCACCGACG_1</th>\n",
              "      <td>14607</td>\n",
              "      <td>4516.0</td>\n",
              "      <td>2543</td>\n",
              "      <td>0.088574</td>\n",
              "      <td>0.172065</td>\n",
              "      <td>0.435754</td>\n",
              "      <td>G2M</td>\n",
              "      <td>14607</td>\n",
              "      <td>-0.263690</td>\n",
              "      <td>19</td>\n",
              "      <td>...</td>\n",
              "      <td>NA</td>\n",
              "      <td>NaN</td>\n",
              "      <td>NA</td>\n",
              "      <td>NaN</td>\n",
              "      <td>NA</td>\n",
              "      <td>NaN</td>\n",
              "      <td>NA</td>\n",
              "      <td>65</td>\n",
              "      <td>2</td>\n",
              "      <td>cycling Neuroblasts</td>\n",
              "    </tr>\n",
              "    <tr>\n",
              "      <th>AAACGCTTCCTTATCA_1</th>\n",
              "      <td>14607</td>\n",
              "      <td>4277.0</td>\n",
              "      <td>2576</td>\n",
              "      <td>0.023381</td>\n",
              "      <td>0.098847</td>\n",
              "      <td>0.087765</td>\n",
              "      <td>S</td>\n",
              "      <td>14607</td>\n",
              "      <td>0.011081</td>\n",
              "      <td>19</td>\n",
              "      <td>...</td>\n",
              "      <td>NA</td>\n",
              "      <td>NaN</td>\n",
              "      <td>NA</td>\n",
              "      <td>NaN</td>\n",
              "      <td>NA</td>\n",
              "      <td>NaN</td>\n",
              "      <td>NA</td>\n",
              "      <td>65</td>\n",
              "      <td>2</td>\n",
              "      <td>cycling Neuroblasts</td>\n",
              "    </tr>\n",
              "    <tr>\n",
              "      <th>...</th>\n",
              "      <td>...</td>\n",
              "      <td>...</td>\n",
              "      <td>...</td>\n",
              "      <td>...</td>\n",
              "      <td>...</td>\n",
              "      <td>...</td>\n",
              "      <td>...</td>\n",
              "      <td>...</td>\n",
              "      <td>...</td>\n",
              "      <td>...</td>\n",
              "      <td>...</td>\n",
              "      <td>...</td>\n",
              "      <td>...</td>\n",
              "      <td>...</td>\n",
              "      <td>...</td>\n",
              "      <td>...</td>\n",
              "      <td>...</td>\n",
              "      <td>...</td>\n",
              "      <td>...</td>\n",
              "      <td>...</td>\n",
              "      <td>...</td>\n",
              "    </tr>\n",
              "    <tr>\n",
              "      <th>TTACGTTTCCACGTAA_17</th>\n",
              "      <td>14773</td>\n",
              "      <td>1843.0</td>\n",
              "      <td>1355</td>\n",
              "      <td>1.899078</td>\n",
              "      <td>-0.098486</td>\n",
              "      <td>-0.034321</td>\n",
              "      <td>G1</td>\n",
              "      <td>14773</td>\n",
              "      <td>-0.064164</td>\n",
              "      <td>12</td>\n",
              "      <td>...</td>\n",
              "      <td>NA</td>\n",
              "      <td>0.193362</td>\n",
              "      <td>Singlet</td>\n",
              "      <td>0.194976</td>\n",
              "      <td>Singlet</td>\n",
              "      <td>0.194976</td>\n",
              "      <td>Singlet</td>\n",
              "      <td>23</td>\n",
              "      <td>0</td>\n",
              "      <td>connecting Chromaffin cells</td>\n",
              "    </tr>\n",
              "    <tr>\n",
              "      <th>TTCCGGTTCGGTAGGA_17</th>\n",
              "      <td>14773</td>\n",
              "      <td>1853.0</td>\n",
              "      <td>1227</td>\n",
              "      <td>0.269833</td>\n",
              "      <td>0.019770</td>\n",
              "      <td>-0.074358</td>\n",
              "      <td>S</td>\n",
              "      <td>14773</td>\n",
              "      <td>0.094128</td>\n",
              "      <td>19</td>\n",
              "      <td>...</td>\n",
              "      <td>NA</td>\n",
              "      <td>0.323713</td>\n",
              "      <td>Singlet</td>\n",
              "      <td>0.320811</td>\n",
              "      <td>Singlet</td>\n",
              "      <td>0.320811</td>\n",
              "      <td>Singlet</td>\n",
              "      <td>23</td>\n",
              "      <td>2</td>\n",
              "      <td>Neuroblasts</td>\n",
              "    </tr>\n",
              "    <tr>\n",
              "      <th>TTGGTTTAGTTGAATG_17</th>\n",
              "      <td>14773</td>\n",
              "      <td>2531.0</td>\n",
              "      <td>1527</td>\n",
              "      <td>0.158040</td>\n",
              "      <td>0.041482</td>\n",
              "      <td>-0.074001</td>\n",
              "      <td>S</td>\n",
              "      <td>14773</td>\n",
              "      <td>0.115483</td>\n",
              "      <td>30</td>\n",
              "      <td>...</td>\n",
              "      <td>NA</td>\n",
              "      <td>0.257816</td>\n",
              "      <td>Singlet</td>\n",
              "      <td>0.258585</td>\n",
              "      <td>Singlet</td>\n",
              "      <td>0.258585</td>\n",
              "      <td>Singlet</td>\n",
              "      <td>47</td>\n",
              "      <td>4</td>\n",
              "      <td>late Chromaffin cells</td>\n",
              "    </tr>\n",
              "    <tr>\n",
              "      <th>TTGTGGATCTCGGCTT_17</th>\n",
              "      <td>14773</td>\n",
              "      <td>1643.0</td>\n",
              "      <td>1054</td>\n",
              "      <td>0.304321</td>\n",
              "      <td>-0.027369</td>\n",
              "      <td>-0.064153</td>\n",
              "      <td>G1</td>\n",
              "      <td>14773</td>\n",
              "      <td>0.036784</td>\n",
              "      <td>30</td>\n",
              "      <td>...</td>\n",
              "      <td>NA</td>\n",
              "      <td>0.194565</td>\n",
              "      <td>Singlet</td>\n",
              "      <td>0.195206</td>\n",
              "      <td>Singlet</td>\n",
              "      <td>0.195206</td>\n",
              "      <td>Singlet</td>\n",
              "      <td>47</td>\n",
              "      <td>4</td>\n",
              "      <td>late Chromaffin cells</td>\n",
              "    </tr>\n",
              "    <tr>\n",
              "      <th>TTGTTGTCAGAAATCA_17</th>\n",
              "      <td>14773</td>\n",
              "      <td>2125.0</td>\n",
              "      <td>1404</td>\n",
              "      <td>0.329412</td>\n",
              "      <td>-0.095500</td>\n",
              "      <td>-0.025367</td>\n",
              "      <td>G1</td>\n",
              "      <td>14773</td>\n",
              "      <td>-0.070133</td>\n",
              "      <td>21</td>\n",
              "      <td>...</td>\n",
              "      <td>NA</td>\n",
              "      <td>0.265993</td>\n",
              "      <td>Singlet</td>\n",
              "      <td>0.265729</td>\n",
              "      <td>Singlet</td>\n",
              "      <td>0.265729</td>\n",
              "      <td>Singlet</td>\n",
              "      <td>42</td>\n",
              "      <td>3</td>\n",
              "      <td>late SCPs</td>\n",
              "    </tr>\n",
              "  </tbody>\n",
              "</table>\n",
              "<p>8434 rows × 105 columns</p>\n",
              "</div>"
            ],
            "text/plain": [
              "                    orig.ident  nCount_RNA  nFeature_RNA  percent.mt  \\\n",
              "AAACCCACAGCTGAAG_1       14607      2622.0          1735    0.114416   \n",
              "AAACGCTCAGCAGATG_1       14607      1967.0          1271    0.152517   \n",
              "AAACGCTGTCAAAGTA_1       14607      1984.0          1347    0.201613   \n",
              "AAACGCTTCACCGACG_1       14607      4516.0          2543    0.088574   \n",
              "AAACGCTTCCTTATCA_1       14607      4277.0          2576    0.023381   \n",
              "...                        ...         ...           ...         ...   \n",
              "TTACGTTTCCACGTAA_17      14773      1843.0          1355    1.899078   \n",
              "TTCCGGTTCGGTAGGA_17      14773      1853.0          1227    0.269833   \n",
              "TTGGTTTAGTTGAATG_17      14773      2531.0          1527    0.158040   \n",
              "TTGTGGATCTCGGCTT_17      14773      1643.0          1054    0.304321   \n",
              "TTGTTGTCAGAAATCA_17      14773      2125.0          1404    0.329412   \n",
              "\n",
              "                      S.Score  G2M.Score Phase old.ident  CC.Difference  \\\n",
              "AAACCCACAGCTGAAG_1  -0.029956  -0.089442    G1     14607       0.059485   \n",
              "AAACGCTCAGCAGATG_1  -0.045497  -0.046038    G1     14607       0.000541   \n",
              "AAACGCTGTCAAAGTA_1   0.087886  -0.057184     S     14607       0.145070   \n",
              "AAACGCTTCACCGACG_1   0.172065   0.435754   G2M     14607      -0.263690   \n",
              "AAACGCTTCCTTATCA_1   0.098847   0.087765     S     14607       0.011081   \n",
              "...                       ...        ...   ...       ...            ...   \n",
              "TTACGTTTCCACGTAA_17 -0.098486  -0.034321    G1     14773      -0.064164   \n",
              "TTCCGGTTCGGTAGGA_17  0.019770  -0.074358     S     14773       0.094128   \n",
              "TTGGTTTAGTTGAATG_17  0.041482  -0.074001     S     14773       0.115483   \n",
              "TTGTGGATCTCGGCTT_17 -0.027369  -0.064153    G1     14773       0.036784   \n",
              "TTGTTGTCAGAAATCA_17 -0.095500  -0.025367    G1     14773      -0.070133   \n",
              "\n",
              "                     RNA_snn_res.1  ...  DF.classifications_0.25_0.005_501  \\\n",
              "AAACCCACAGCTGAAG_1              15  ...                                 NA   \n",
              "AAACGCTCAGCAGATG_1              15  ...                                 NA   \n",
              "AAACGCTGTCAAAGTA_1              19  ...                                 NA   \n",
              "AAACGCTTCACCGACG_1              19  ...                                 NA   \n",
              "AAACGCTTCCTTATCA_1              19  ...                                 NA   \n",
              "...                            ...  ...                                ...   \n",
              "TTACGTTTCCACGTAA_17             12  ...                                 NA   \n",
              "TTCCGGTTCGGTAGGA_17             19  ...                                 NA   \n",
              "TTGGTTTAGTTGAATG_17             30  ...                                 NA   \n",
              "TTGTGGATCTCGGCTT_17             30  ...                                 NA   \n",
              "TTGTTGTCAGAAATCA_17             21  ...                                 NA   \n",
              "\n",
              "                     pANN_0.25_0.23_0 DF.classifications_0.25_0.23_0  \\\n",
              "AAACCCACAGCTGAAG_1                NaN                             NA   \n",
              "AAACGCTCAGCAGATG_1                NaN                             NA   \n",
              "AAACGCTGTCAAAGTA_1                NaN                             NA   \n",
              "AAACGCTTCACCGACG_1                NaN                             NA   \n",
              "AAACGCTTCCTTATCA_1                NaN                             NA   \n",
              "...                               ...                            ...   \n",
              "TTACGTTTCCACGTAA_17          0.193362                        Singlet   \n",
              "TTCCGGTTCGGTAGGA_17          0.323713                        Singlet   \n",
              "TTGGTTTAGTTGAATG_17          0.257816                        Singlet   \n",
              "TTGTGGATCTCGGCTT_17          0.194565                        Singlet   \n",
              "TTGTTGTCAGAAATCA_17          0.265993                        Singlet   \n",
              "\n",
              "                     pANN_0.25_0.24_1356 DF.classifications_0.25_0.24_1356  \\\n",
              "AAACCCACAGCTGAAG_1                   NaN                                NA   \n",
              "AAACGCTCAGCAGATG_1                   NaN                                NA   \n",
              "AAACGCTGTCAAAGTA_1                   NaN                                NA   \n",
              "AAACGCTTCACCGACG_1                   NaN                                NA   \n",
              "AAACGCTTCCTTATCA_1                   NaN                                NA   \n",
              "...                                  ...                               ...   \n",
              "TTACGTTTCCACGTAA_17             0.194976                           Singlet   \n",
              "TTCCGGTTCGGTAGGA_17             0.320811                           Singlet   \n",
              "TTGGTTTAGTTGAATG_17             0.258585                           Singlet   \n",
              "TTGTGGATCTCGGCTT_17             0.195206                           Singlet   \n",
              "TTGTTGTCAGAAATCA_17             0.265729                           Singlet   \n",
              "\n",
              "                    pANN_0.25_0.24_1085 DF.classifications_0.25_0.24_1085  \\\n",
              "AAACCCACAGCTGAAG_1                  NaN                                NA   \n",
              "AAACGCTCAGCAGATG_1                  NaN                                NA   \n",
              "AAACGCTGTCAAAGTA_1                  NaN                                NA   \n",
              "AAACGCTTCACCGACG_1                  NaN                                NA   \n",
              "AAACGCTTCCTTATCA_1                  NaN                                NA   \n",
              "...                                 ...                               ...   \n",
              "TTACGTTTCCACGTAA_17            0.194976                           Singlet   \n",
              "TTCCGGTTCGGTAGGA_17            0.320811                           Singlet   \n",
              "TTGGTTTAGTTGAATG_17            0.258585                           Singlet   \n",
              "TTGTGGATCTCGGCTT_17            0.195206                           Singlet   \n",
              "TTGTTGTCAGAAATCA_17            0.265729                           Singlet   \n",
              "\n",
              "                    RNA_snn_res.5 gland_clusters       active_ident_celltypes  \n",
              "AAACCCACAGCTGAAG_1             72              1                       Bridge  \n",
              "AAACGCTCAGCAGATG_1             21              1  connecting Chromaffin cells  \n",
              "AAACGCTGTCAAAGTA_1             23              2                  Neuroblasts  \n",
              "AAACGCTTCACCGACG_1             65              2          cycling Neuroblasts  \n",
              "AAACGCTTCCTTATCA_1             65              2          cycling Neuroblasts  \n",
              "...                           ...            ...                          ...  \n",
              "TTACGTTTCCACGTAA_17            23              0  connecting Chromaffin cells  \n",
              "TTCCGGTTCGGTAGGA_17            23              2                  Neuroblasts  \n",
              "TTGGTTTAGTTGAATG_17            47              4        late Chromaffin cells  \n",
              "TTGTGGATCTCGGCTT_17            47              4        late Chromaffin cells  \n",
              "TTGTTGTCAGAAATCA_17            42              3                    late SCPs  \n",
              "\n",
              "[8434 rows x 105 columns]"
            ]
          },
          "execution_count": 8,
          "metadata": {},
          "output_type": "execute_result"
        }
      ],
      "source": [
        "adata_finetuning.obs\n"
      ]
    },
    {
      "cell_type": "code",
      "execution_count": 9,
      "metadata": {},
      "outputs": [
        {
          "data": {
            "text/html": [
              "<div>\n",
              "<style scoped>\n",
              "    .dataframe tbody tr th:only-of-type {\n",
              "        vertical-align: middle;\n",
              "    }\n",
              "\n",
              "    .dataframe tbody tr th {\n",
              "        vertical-align: top;\n",
              "    }\n",
              "\n",
              "    .dataframe thead th {\n",
              "        text-align: right;\n",
              "    }\n",
              "</style>\n",
              "<table border=\"1\" class=\"dataframe\">\n",
              "  <thead>\n",
              "    <tr style=\"text-align: right;\">\n",
              "      <th></th>\n",
              "      <th>vst.mean</th>\n",
              "      <th>vst.variance</th>\n",
              "      <th>vst.variance.expected</th>\n",
              "      <th>vst.variance.standardized</th>\n",
              "      <th>vst.variable</th>\n",
              "      <th>gene_name</th>\n",
              "    </tr>\n",
              "  </thead>\n",
              "  <tbody>\n",
              "    <tr>\n",
              "      <th>RP11-34P13.7</th>\n",
              "      <td>0.002512</td>\n",
              "      <td>0.002506</td>\n",
              "      <td>0.002643</td>\n",
              "      <td>0.948367</td>\n",
              "      <td>0</td>\n",
              "      <td>RP11-34P13.7</td>\n",
              "    </tr>\n",
              "    <tr>\n",
              "      <th>AL627309.1</th>\n",
              "      <td>0.004932</td>\n",
              "      <td>0.004908</td>\n",
              "      <td>0.005316</td>\n",
              "      <td>0.923144</td>\n",
              "      <td>0</td>\n",
              "      <td>AL627309.1</td>\n",
              "    </tr>\n",
              "    <tr>\n",
              "      <th>AP006222.2</th>\n",
              "      <td>0.030055</td>\n",
              "      <td>0.030457</td>\n",
              "      <td>0.035064</td>\n",
              "      <td>0.868621</td>\n",
              "      <td>0</td>\n",
              "      <td>AP006222.2</td>\n",
              "    </tr>\n",
              "    <tr>\n",
              "      <th>RP4-669L17.10</th>\n",
              "      <td>0.086815</td>\n",
              "      <td>0.089336</td>\n",
              "      <td>0.107894</td>\n",
              "      <td>0.827992</td>\n",
              "      <td>0</td>\n",
              "      <td>RP4-669L17.10</td>\n",
              "    </tr>\n",
              "    <tr>\n",
              "      <th>RP5-857K21.15</th>\n",
              "      <td>0.000000</td>\n",
              "      <td>0.000000</td>\n",
              "      <td>0.000000</td>\n",
              "      <td>0.000000</td>\n",
              "      <td>0</td>\n",
              "      <td>RP5-857K21.15</td>\n",
              "    </tr>\n",
              "    <tr>\n",
              "      <th>...</th>\n",
              "      <td>...</td>\n",
              "      <td>...</td>\n",
              "      <td>...</td>\n",
              "      <td>...</td>\n",
              "      <td>...</td>\n",
              "      <td>...</td>\n",
              "    </tr>\n",
              "    <tr>\n",
              "      <th>CTD-2382H12.2</th>\n",
              "      <td>0.000000</td>\n",
              "      <td>0.000000</td>\n",
              "      <td>0.000000</td>\n",
              "      <td>0.000000</td>\n",
              "      <td>0</td>\n",
              "      <td>CTD-2382H12.2</td>\n",
              "    </tr>\n",
              "    <tr>\n",
              "      <th>RP4-737E23.2</th>\n",
              "      <td>0.000000</td>\n",
              "      <td>0.000000</td>\n",
              "      <td>0.000000</td>\n",
              "      <td>0.000000</td>\n",
              "      <td>0</td>\n",
              "      <td>RP4-737E23.2</td>\n",
              "    </tr>\n",
              "    <tr>\n",
              "      <th>BPIFB6</th>\n",
              "      <td>0.000000</td>\n",
              "      <td>0.000000</td>\n",
              "      <td>0.000000</td>\n",
              "      <td>0.000000</td>\n",
              "      <td>0</td>\n",
              "      <td>BPIFB6</td>\n",
              "    </tr>\n",
              "    <tr>\n",
              "      <th>RLN3</th>\n",
              "      <td>0.000000</td>\n",
              "      <td>0.000000</td>\n",
              "      <td>0.000000</td>\n",
              "      <td>0.000000</td>\n",
              "      <td>0</td>\n",
              "      <td>RLN3</td>\n",
              "    </tr>\n",
              "    <tr>\n",
              "      <th>AC067969.1</th>\n",
              "      <td>0.000000</td>\n",
              "      <td>0.000000</td>\n",
              "      <td>0.000000</td>\n",
              "      <td>0.000000</td>\n",
              "      <td>0</td>\n",
              "      <td>AC067969.1</td>\n",
              "    </tr>\n",
              "  </tbody>\n",
              "</table>\n",
              "<p>28422 rows × 6 columns</p>\n",
              "</div>"
            ],
            "text/plain": [
              "               vst.mean  vst.variance  vst.variance.expected  \\\n",
              "RP11-34P13.7   0.002512      0.002506               0.002643   \n",
              "AL627309.1     0.004932      0.004908               0.005316   \n",
              "AP006222.2     0.030055      0.030457               0.035064   \n",
              "RP4-669L17.10  0.086815      0.089336               0.107894   \n",
              "RP5-857K21.15  0.000000      0.000000               0.000000   \n",
              "...                 ...           ...                    ...   \n",
              "CTD-2382H12.2  0.000000      0.000000               0.000000   \n",
              "RP4-737E23.2   0.000000      0.000000               0.000000   \n",
              "BPIFB6         0.000000      0.000000               0.000000   \n",
              "RLN3           0.000000      0.000000               0.000000   \n",
              "AC067969.1     0.000000      0.000000               0.000000   \n",
              "\n",
              "               vst.variance.standardized  vst.variable      gene_name  \n",
              "RP11-34P13.7                    0.948367             0   RP11-34P13.7  \n",
              "AL627309.1                      0.923144             0     AL627309.1  \n",
              "AP006222.2                      0.868621             0     AP006222.2  \n",
              "RP4-669L17.10                   0.827992             0  RP4-669L17.10  \n",
              "RP5-857K21.15                   0.000000             0  RP5-857K21.15  \n",
              "...                                  ...           ...            ...  \n",
              "CTD-2382H12.2                   0.000000             0  CTD-2382H12.2  \n",
              "RP4-737E23.2                    0.000000             0   RP4-737E23.2  \n",
              "BPIFB6                          0.000000             0         BPIFB6  \n",
              "RLN3                            0.000000             0           RLN3  \n",
              "AC067969.1                      0.000000             0     AC067969.1  \n",
              "\n",
              "[28422 rows x 6 columns]"
            ]
          },
          "execution_count": 9,
          "metadata": {},
          "output_type": "execute_result"
        }
      ],
      "source": [
        "adata_finetuning.var"
      ]
    },
    {
      "cell_type": "code",
      "execution_count": 10,
      "metadata": {
        "id": "sjo5qHPFw0HY"
      },
      "outputs": [],
      "source": [
        "# get labels: the celltype\n",
        "num_types = adata_finetuning.obs[ref_meta_colname].unique().shape[0]\n",
        "id2type = dict(enumerate(adata_finetuning.obs[ref_meta_colname].astype(\"category\").cat.categories))\n",
        "\n",
        "celltypes_labels = np.array(adata_finetuning.obs[ref_meta_colname].tolist())"
      ]
    },
    {
      "cell_type": "markdown",
      "metadata": {
        "id": "VzPLNqRr-BSg"
      },
      "source": [
        "This is all summarized in this dictionary:"
      ]
    },
    {
      "cell_type": "code",
      "execution_count": 11,
      "metadata": {
        "colab": {
          "base_uri": "https://localhost:8080/"
        },
        "id": "_j-x6weFm6UO",
        "outputId": "5d0c52f1-553e-460f-def7-7cf372b9bc89"
      },
      "outputs": [
        {
          "data": {
            "text/plain": [
              "{0: 'Bridge',\n",
              " 1: 'Chromaffin cells',\n",
              " 2: 'Neuroblasts',\n",
              " 3: 'SCPs',\n",
              " 4: 'connecting Chromaffin cells',\n",
              " 5: 'cycling Neuroblasts',\n",
              " 6: 'cycling SCPs',\n",
              " 7: 'late Chromaffin cells',\n",
              " 8: 'late Neuroblasts',\n",
              " 9: 'late SCPs'}"
            ]
          },
          "execution_count": 11,
          "metadata": {},
          "output_type": "execute_result"
        }
      ],
      "source": [
        "id2type"
      ]
    },
    {
      "cell_type": "markdown",
      "metadata": {
        "id": "HayHZKTC-BSi"
      },
      "source": [
        "Use the Helical package to get the embeddings of the gene expression profile.\n",
        "\n",
        "The only thing we need to specify is the column containing the names of the genes. (`gene_name` in this case)\n",
        "\n",
        "The resulting embeddings are the input features `x` for our smaller NN model."
      ]
    },
    {
      "cell_type": "markdown",
      "metadata": {
        "id": "_cXrEgxHC-Wi"
      },
      "source": [
        "# scGPT"
      ]
    },
    {
      "cell_type": "code",
      "execution_count": 12,
      "metadata": {
        "colab": {
          "base_uri": "https://localhost:8080/"
        },
        "id": "t0hNoTJdw0Ha",
        "outputId": "360f0843-05ee-4aaa-8937-6a06c3446a2e"
      },
      "outputs": [
        {
          "name": "stderr",
          "output_type": "stream",
          "text": [
            "WARNING:py.warnings:/home/lieke_unix/miniconda3/envs/singlecellgpt_env/lib/python3.12/site-packages/helical/models/scgpt/model_dir/transformer.py:135: UserWarning: enable_nested_tensor is True, but self.use_nested_tensor is False because encoder_layer was not TransformerEncoderLayer\n",
            "  warnings.warn(\n",
            "\n",
            "INFO:helical.models.scgpt.model:Model finished initializing.\n",
            "INFO:helical.models.scgpt.model:'scGPT' model is in 'eval' mode, on device 'cuda' with embedding mode 'cell'.\n",
            "INFO:helical.models.scgpt.model:Processing data for scGPT.\n",
            "WARNING:py.warnings:/home/lieke_unix/miniconda3/envs/singlecellgpt_env/lib/python3.12/site-packages/helical/models/base_models.py:97: ImplicitModificationWarning: Trying to modify attribute `.obs` of view, initializing view as actual.\n",
            "  adata.obs[\"total_counts\"] = adata.X.sum(axis=1)\n",
            "\n",
            "INFO:helical.models.scgpt.model:Filtering out 4506 genes to a total of 23916 genes with an ID in the scGPT vocabulary.\n",
            "INFO:helical.models.scgpt.model:Successfully processed the data for scGPT.\n",
            "INFO:helical.models.scgpt.model:Started getting embeddings:\n",
            "WARNING:py.warnings:/home/lieke_unix/miniconda3/envs/singlecellgpt_env/lib/python3.12/site-packages/helical/models/scgpt/model.py:157: FutureWarning: `torch.cuda.amp.autocast(args...)` is deprecated. Please use `torch.amp.autocast('cuda', args...)` instead.\n",
            "  torch.cuda.amp.autocast(enabled=True),\n",
            "\n",
            "Embedding cells: 100%|██████████| 169/169 [01:12<00:00,  2.34it/s]\n",
            "INFO:helical.models.scgpt.model:Finished getting embeddings.\n"
          ]
        },
        {
          "data": {
            "text/plain": [
              "(8434, 512)"
            ]
          },
          "execution_count": 12,
          "metadata": {},
          "output_type": "execute_result"
        }
      ],
      "source": [
        "device = \"cuda\" if torch.cuda.is_available() else \"cpu\"\n",
        "\n",
        "# Configure and initialize the scGPT model\n",
        "scgpt_config = scGPTConfig(batch_size=50, device=device)\n",
        "scgpt = scGPT(configurer = scgpt_config)\n",
        "\n",
        "# Process the data for the scGPT model\n",
        "Normalize_SubsetHighlyVariable = False # This logic is also connected to processing the left out data (adata_unseen).\n",
        "\n",
        "if Normalize_SubsetHighlyVariable:\n",
        "    data_processed = scgpt.process_data(adata_finetuning, gene_names = \"gene_name\", fine_tuning=True)\n",
        "else:\n",
        "    data_processed = scgpt.process_data(adata_finetuning, gene_names = \"gene_name\")\n",
        "\n",
        "# Get embeddings\n",
        "x_scgpt = scgpt.get_embeddings(data_processed)\n",
        "x_scgpt.shape"
      ]
    },
    {
      "cell_type": "markdown",
      "metadata": {
        "id": "YxtVwacW-BSj"
      },
      "source": [
        "With the input features, we also need the corresponding labels `y`.\n",
        "\n",
        "They correspond to the cell type labels.\n",
        "\n",
        "As we have a categorical prediction, we transform the cell type labels to integer labels to work with CrossEntropyLoss later."
      ]
    },
    {
      "cell_type": "code",
      "execution_count": 13,
      "metadata": {
        "id": "zHMZ7VX8m6UQ"
      },
      "outputs": [],
      "source": [
        "y = celltypes_labels\n",
        "\n",
        "encoder = LabelEncoder()\n",
        "y_encoded = encoder.fit_transform(y)\n",
        "y_encoded = one_hot(torch.tensor(y_encoded),num_types).float()"
      ]
    },
    {
      "cell_type": "code",
      "execution_count": 14,
      "metadata": {},
      "outputs": [
        {
          "data": {
            "text/plain": [
              "late Neuroblasts               1753\n",
              "connecting Chromaffin cells    1439\n",
              "Neuroblasts                    1177\n",
              "cycling Neuroblasts             910\n",
              "Chromaffin cells                729\n",
              "SCPs                            655\n",
              "late Chromaffin cells           620\n",
              "Bridge                          504\n",
              "late SCPs                       413\n",
              "cycling SCPs                    234\n",
              "Name: count, dtype: int64"
            ]
          },
          "execution_count": 14,
          "metadata": {},
          "output_type": "execute_result"
        }
      ],
      "source": [
        "freq = pd.Series(y).value_counts()\n",
        "freq"
      ]
    },
    {
      "cell_type": "markdown",
      "metadata": {
        "id": "wQpfYP2z-BSk"
      },
      "source": [
        "## Define and train the model"
      ]
    },
    {
      "cell_type": "code",
      "execution_count": 15,
      "metadata": {
        "colab": {
          "base_uri": "https://localhost:8080/"
        },
        "id": "iVtFwjSp4rgs",
        "outputId": "4b68dd99-6615-4912-97bb-8267135c40d5"
      },
      "outputs": [
        {
          "name": "stdout",
          "output_type": "stream",
          "text": [
            "Sequential(\n",
            "  (0): Linear(in_features=512, out_features=128, bias=True)\n",
            "  (1): ReLU()\n",
            "  (2): Dropout(p=0.4, inplace=False)\n",
            "  (3): Linear(in_features=128, out_features=32, bias=True)\n",
            "  (4): ReLU()\n",
            "  (5): Dropout(p=0.4, inplace=False)\n",
            "  (6): Linear(in_features=32, out_features=10, bias=True)\n",
            ")\n"
          ]
        }
      ],
      "source": [
        "input_shape = 512\n",
        "\n",
        "# Define the model architecture\n",
        "head_model = nn.Sequential(\n",
        "    nn.Linear(input_shape, 128),\n",
        "    nn.ReLU(),\n",
        "    nn.Dropout(0.4),\n",
        "    nn.Linear(128, 32),\n",
        "    nn.ReLU(),\n",
        "    nn.Dropout(0.4),\n",
        "    nn.Linear(32, num_types)\n",
        "    )\n",
        "\n",
        "print(head_model)"
      ]
    },
    {
      "cell_type": "code",
      "execution_count": 16,
      "metadata": {
        "id": "ZMWg1u-LT60P"
      },
      "outputs": [],
      "source": [
        "def train_model(model: nn.Sequential,\n",
        "                X_train: torch.Tensor,\n",
        "                y_train: torch.Tensor,\n",
        "                X_val: torch.Tensor,\n",
        "                y_val: torch.Tensor,\n",
        "                optimizer = optim.Adam,\n",
        "                loss_fn = nn.CrossEntropyLoss(),\n",
        "                num_epochs = 100,\n",
        "                batch = 64):\n",
        "\n",
        "    # Create DataLoader for batching\n",
        "    train_dataset = TensorDataset(X_train, y_train)\n",
        "    train_loader = DataLoader(train_dataset, batch_size=batch, shuffle=True)\n",
        "\n",
        "    # Validation dataset\n",
        "    val_dataset = TensorDataset(X_val, y_val)\n",
        "    val_loader = DataLoader(val_dataset, batch_size=batch, shuffle=False)\n",
        "\n",
        "    # Ensure model is in training mode\n",
        "    model.train()\n",
        "\n",
        "    for epoch in range(num_epochs):\n",
        "        for batch_X, batch_y in train_loader:\n",
        "            # Zero the parameter gradients\n",
        "            optimizer.zero_grad()\n",
        "\n",
        "            # Forward pass\n",
        "            outputs = model(batch_X)\n",
        "\n",
        "            # Compute loss\n",
        "            loss = loss_fn(outputs, batch_y)\n",
        "\n",
        "            # Backward pass and optimize\n",
        "            loss.backward()\n",
        "            optimizer.step()\n",
        "            optimizer.zero_grad()\n",
        "\n",
        "        # Validation phase (optional)\n",
        "        model.eval()\n",
        "        with torch.no_grad():\n",
        "            val_losses = []\n",
        "            for val_X, val_y in val_loader:\n",
        "                val_outputs = model(val_X)\n",
        "                val_loss = loss_fn(val_outputs, val_y)\n",
        "                val_losses.append(val_loss.item())\n",
        "\n",
        "            print(f\"Epoch {epoch+1}, Validation Loss: {sum(val_losses)/len(val_losses)}\")\n",
        "\n",
        "        # Set back to training mode for next epoch\n",
        "        model.train()\n",
        "\n",
        "    model.eval()\n",
        "    return model"
      ]
    },
    {
      "cell_type": "code",
      "execution_count": 17,
      "metadata": {
        "colab": {
          "base_uri": "https://localhost:8080/"
        },
        "id": "m_MksIuNw0Hb",
        "outputId": "1c316b1e-87b3-4ad5-d283-e6e810c44d19"
      },
      "outputs": [
        {
          "name": "stdout",
          "output_type": "stream",
          "text": [
            "Epoch 1, Validation Loss: 1.9539488639150346\n",
            "Epoch 2, Validation Loss: 1.6226638214928764\n",
            "Epoch 3, Validation Loss: 1.3446832639830453\n",
            "Epoch 4, Validation Loss: 1.1940639317035675\n",
            "Epoch 5, Validation Loss: 1.0805507046835763\n",
            "Epoch 6, Validation Loss: 0.997269651719502\n",
            "Epoch 7, Validation Loss: 0.9194851517677307\n",
            "Epoch 8, Validation Loss: 0.8536776687417712\n",
            "Epoch 9, Validation Loss: 0.8008607498237065\n",
            "Epoch 10, Validation Loss: 0.7544210595743996\n",
            "Epoch 11, Validation Loss: 0.7195781128747123\n",
            "Epoch 12, Validation Loss: 0.6790817081928253\n",
            "Epoch 13, Validation Loss: 0.6570288666657039\n",
            "Epoch 14, Validation Loss: 0.6438275043453489\n",
            "Epoch 15, Validation Loss: 0.6167549810239247\n",
            "Epoch 16, Validation Loss: 0.6045139580965042\n",
            "Epoch 17, Validation Loss: 0.5890968633549554\n",
            "Epoch 18, Validation Loss: 0.5799322873353958\n",
            "Epoch 19, Validation Loss: 0.5661019789321082\n",
            "Epoch 20, Validation Loss: 0.5624149824891772\n",
            "Epoch 21, Validation Loss: 0.5468102352959769\n",
            "Epoch 22, Validation Loss: 0.542750494820731\n",
            "Epoch 23, Validation Loss: 0.5248316739286695\n",
            "Epoch 24, Validation Loss: 0.529988386801311\n",
            "Epoch 25, Validation Loss: 0.5135824722903115\n",
            "Epoch 26, Validation Loss: 0.5077306223767144\n",
            "Epoch 27, Validation Loss: 0.5081715966973986\n",
            "Epoch 28, Validation Loss: 0.493301517197064\n",
            "Epoch 29, Validation Loss: 0.4940869425024305\n",
            "Epoch 30, Validation Loss: 0.49111710701669964\n",
            "Epoch 31, Validation Loss: 0.48722420419965473\n",
            "Epoch 32, Validation Loss: 0.49026890311922344\n",
            "Epoch 33, Validation Loss: 0.479877518756049\n",
            "Epoch 34, Validation Loss: 0.47128066207681385\n",
            "Epoch 35, Validation Loss: 0.47914616550718037\n",
            "Epoch 36, Validation Loss: 0.4712059923580715\n",
            "Epoch 37, Validation Loss: 0.46255528926849365\n",
            "Epoch 38, Validation Loss: 0.4613111657755716\n",
            "Epoch 39, Validation Loss: 0.46485461933272226\n",
            "Epoch 40, Validation Loss: 0.46069638431072235\n",
            "Epoch 41, Validation Loss: 0.4605774645294462\n",
            "Epoch 42, Validation Loss: 0.45361352818352835\n",
            "Epoch 43, Validation Loss: 0.4478699692658016\n",
            "Epoch 44, Validation Loss: 0.44659789970942904\n",
            "Epoch 45, Validation Loss: 0.4532319669212614\n",
            "Epoch 46, Validation Loss: 0.461665187563215\n",
            "Epoch 47, Validation Loss: 0.43887816795281004\n",
            "Epoch 48, Validation Loss: 0.44452911615371704\n",
            "Epoch 49, Validation Loss: 0.4379872850009373\n",
            "Epoch 50, Validation Loss: 0.42880768328905106\n",
            "Epoch 51, Validation Loss: 0.4346226751804352\n",
            "Epoch 52, Validation Loss: 0.43836664089134764\n",
            "Epoch 53, Validation Loss: 0.43992977695805685\n",
            "Epoch 54, Validation Loss: 0.42433623330933706\n",
            "Epoch 55, Validation Loss: 0.42882818835122244\n",
            "Epoch 56, Validation Loss: 0.4296142969812666\n",
            "Epoch 57, Validation Loss: 0.4215480855533055\n",
            "Epoch 58, Validation Loss: 0.42127642567668644\n",
            "Epoch 59, Validation Loss: 0.4262420002903257\n",
            "Epoch 60, Validation Loss: 0.41642692259379793\n",
            "Epoch 61, Validation Loss: 0.42948427370616366\n",
            "Epoch 62, Validation Loss: 0.4244191561426435\n",
            "Epoch 63, Validation Loss: 0.4207417517900467\n",
            "Epoch 64, Validation Loss: 0.418301668550287\n",
            "Epoch 65, Validation Loss: 0.4161124399730137\n",
            "Epoch 66, Validation Loss: 0.40600926003285814\n",
            "Epoch 67, Validation Loss: 0.408176737172263\n",
            "Epoch 68, Validation Loss: 0.4017447052257402\n",
            "Epoch 69, Validation Loss: 0.3984022044709751\n",
            "Epoch 70, Validation Loss: 0.41438003948756624\n",
            "Epoch 71, Validation Loss: 0.4118139733161245\n",
            "Epoch 72, Validation Loss: 0.4049024645771299\n",
            "Epoch 73, Validation Loss: 0.3953976918544088\n",
            "Epoch 74, Validation Loss: 0.4027691366417067\n",
            "Epoch 75, Validation Loss: 0.4051893236381667\n",
            "Epoch 76, Validation Loss: 0.39807057274239405\n",
            "Epoch 77, Validation Loss: 0.401703274675778\n",
            "Epoch 78, Validation Loss: 0.39345901033708025\n",
            "Epoch 79, Validation Loss: 0.404670278940882\n",
            "Epoch 80, Validation Loss: 0.40280785305159433\n",
            "Epoch 81, Validation Loss: 0.4147182862673487\n",
            "Epoch 82, Validation Loss: 0.390736491552421\n",
            "Epoch 83, Validation Loss: 0.38794813411576407\n",
            "Epoch 84, Validation Loss: 0.38296487075941904\n",
            "Epoch 85, Validation Loss: 0.38189774432352613\n",
            "Epoch 86, Validation Loss: 0.39871848800352644\n",
            "Epoch 87, Validation Loss: 0.3807713421327727\n",
            "Epoch 88, Validation Loss: 0.3889418553028788\n",
            "Epoch 89, Validation Loss: 0.3872521604810442\n",
            "Epoch 90, Validation Loss: 0.3866191219006266\n",
            "Epoch 91, Validation Loss: 0.38404917291232515\n",
            "Epoch 92, Validation Loss: 0.39044877673898426\n",
            "Epoch 93, Validation Loss: 0.38863671251705717\n",
            "Epoch 94, Validation Loss: 0.37525289931467604\n",
            "Epoch 95, Validation Loss: 0.37739572141851696\n",
            "Epoch 96, Validation Loss: 0.3752682049359594\n",
            "Epoch 97, Validation Loss: 0.3696715459227562\n",
            "Epoch 98, Validation Loss: 0.3730931452342442\n",
            "Epoch 99, Validation Loss: 0.37046086468866896\n",
            "Epoch 100, Validation Loss: 0.3785576564925058\n"
          ]
        }
      ],
      "source": [
        "X_train, X_test, y_train, y_test = train_test_split(x_scgpt, y_encoded, test_size=0.1, random_state=42)\n",
        "\n",
        "head_model_scgpt = deepcopy(head_model)\n",
        "head_model_scgpt = train_model(head_model_scgpt,\n",
        "                               torch.from_numpy(X_train),\n",
        "                               y_train,\n",
        "                               torch.from_numpy(X_test),\n",
        "                               y_test,\n",
        "                               optim.Adam(head_model_scgpt.parameters(), lr=0.001),\n",
        "                               nn.CrossEntropyLoss())"
      ]
    },
    {
      "cell_type": "code",
      "execution_count": 18,
      "metadata": {
        "id": "UX4bwC0xw0Hc"
      },
      "outputs": [],
      "source": [
        "# Predictions on the test set and ground truth\n",
        "predictions_nn = head_model_scgpt(torch.Tensor(X_test))\n",
        "y_pred = np.array(torch.argmax(predictions_nn, dim=1))\n",
        "y_true = np.array(y_test.argmax(axis=1))"
      ]
    },
    {
      "cell_type": "markdown",
      "metadata": {
        "id": "Uy8_LASN-BSl"
      },
      "source": [
        "## Present the results\n",
        "- on the test set and,\n",
        "- a separate, unseen evaluation set"
      ]
    },
    {
      "cell_type": "code",
      "execution_count": 19,
      "metadata": {
        "id": "_Lkv-mfDuKUP"
      },
      "outputs": [],
      "source": [
        "def get_evaluations(name_data_set, y_true, y_pred) -> dict:\n",
        "  accuracy = accuracy_score(y_true, y_pred)\n",
        "  precision = precision_score(y_true, y_pred, average='macro')\n",
        "  f1 = f1_score(y_true, y_pred, average='macro')\n",
        "  recall = recall_score(y_true, y_pred, average='macro')\n",
        "  print(f\"{name_data_set} accuracy: {(accuracy*100):.1f}%\")\n",
        "  print(f\"{name_data_set} precision: {(precision*100):.1f}%\")\n",
        "  print(f\"{name_data_set} f1: {(f1*100):.1f}%\")\n",
        "  print(f\"{name_data_set} recall: {(recall*100):.1f}%\")\n",
        "  return {\n",
        "      \"accuracy\": accuracy,\n",
        "      \"precision\": precision,\n",
        "      \"f1\": f1,\n",
        "      \"recall\": recall,\n",
        "  }"
      ]
    },
    {
      "cell_type": "code",
      "execution_count": 20,
      "metadata": {
        "colab": {
          "base_uri": "https://localhost:8080/"
        },
        "id": "q3THhrm7uS99",
        "outputId": "6737b828-df9c-4507-c577-80082247918b"
      },
      "outputs": [
        {
          "name": "stdout",
          "output_type": "stream",
          "text": [
            "Test set accuracy: 86.8%\n",
            "Test set precision: 86.7%\n",
            "Test set f1: 84.9%\n",
            "Test set recall: 83.7%\n"
          ]
        },
        {
          "data": {
            "text/plain": [
              "{'accuracy': 0.8684834123222749,\n",
              " 'precision': 0.8671712095115712,\n",
              " 'f1': 0.8490678756116795,\n",
              " 'recall': 0.837341965935819}"
            ]
          },
          "execution_count": 20,
          "metadata": {},
          "output_type": "execute_result"
        }
      ],
      "source": [
        "get_evaluations(\"Test set\", y_true, y_pred)"
      ]
    },
    {
      "cell_type": "code",
      "execution_count": 21,
      "metadata": {},
      "outputs": [
        {
          "name": "stdout",
          "output_type": "stream",
          "text": [
            "{0: 'Bridge', 1: 'Chromaffin cells', 2: 'Neuroblasts', 3: 'SCPs', 4: 'connecting Chromaffin cells', 5: 'cycling Neuroblasts', 6: 'cycling SCPs', 7: 'late Chromaffin cells', 8: 'late Neuroblasts', 9: 'late SCPs'}\n"
          ]
        },
        {
          "data": {
            "image/png": "[encoded data removed]",
            "text/plain": [
              "<Figure size 640x480 with 1 Axes>"
            ]
          },
          "metadata": {},
          "output_type": "display_data"
        }
      ],
      "source": [
        "# Visualize class distribution\n",
        "from sklearn_evaluation import plot\n",
        "plot.target_analysis(y_true)\n",
        "print(id2type)"
      ]
    },
    {
      "cell_type": "markdown",
      "metadata": {
        "id": "PGwcZiNaLkBv"
      },
      "source": [
        "Load the unseen evaluation set. Two options:\n",
        "\n",
        "1. Evaluation: Load the left out evaluation set from the finetuning dataset. (with true labels - Reference set)\n",
        "2. Target: Load the dataset that the predictions will be made on. (no true labels - Westerhout)"
      ]
    },
    {
      "cell_type": "code",
      "execution_count": 24,
      "metadata": {},
      "outputs": [],
      "source": [
        "final_task = \"evaluation\" # \"evaluation\" or \"target\"\n",
        "if final_task == \"target\":\n",
        "    adata_unseen = sc.read_h5ad(filename_target)\n",
        "    adata_unseen.X = adata_unseen.raw.X.copy()\n",
        "    adata_unseen.var[\"gene_name\"] = adata_unseen.var_names # \"Data must have the provided key 'gene_name' in its 'var' section to be processed by the Helical RNA model.\"\n",
        "elif final_task == \"evaluation\": \n",
        "    adata_unseen = adata_evaluation # AnnData preprocessing was done before the finetuning - evaluation split.\n",
        "    "
      ]
    },
    {
      "cell_type": "code",
      "execution_count": 25,
      "metadata": {
        "colab": {
          "base_uri": "https://localhost:8080/"
        },
        "id": "18bomcpxlxtY",
        "outputId": "ab17404e-20c0-4590-b730-492de07e55bd"
      },
      "outputs": [
        {
          "name": "stderr",
          "output_type": "stream",
          "text": [
            "INFO:helical.models.scgpt.model:Processing data for scGPT.\n",
            "WARNING:py.warnings:/home/lieke_unix/miniconda3/envs/singlecellgpt_env/lib/python3.12/site-packages/helical/models/base_models.py:97: ImplicitModificationWarning: Trying to modify attribute `.obs` of view, initializing view as actual.\n",
            "  adata.obs[\"total_counts\"] = adata.X.sum(axis=1)\n",
            "\n",
            "INFO:helical.models.scgpt.model:Filtering out 4506 genes to a total of 23916 genes with an ID in the scGPT vocabulary.\n",
            "INFO:helical.models.scgpt.model:Successfully processed the data for scGPT.\n",
            "INFO:helical.models.scgpt.model:Started getting embeddings:\n",
            "WARNING:py.warnings:/home/lieke_unix/miniconda3/envs/singlecellgpt_env/lib/python3.12/site-packages/helical/models/scgpt/model.py:157: FutureWarning: `torch.cuda.amp.autocast(args...)` is deprecated. Please use `torch.amp.autocast('cuda', args...)` instead.\n",
            "  torch.cuda.amp.autocast(enabled=True),\n",
            "\n",
            "Embedding cells: 100%|██████████| 47/47 [00:20<00:00,  2.35it/s]\n",
            "INFO:helical.models.scgpt.model:Finished getting embeddings.\n"
          ]
        }
      ],
      "source": [
        "# Process the unseen data\n",
        "if Normalize_SubsetHighlyVariable:\n",
        "    data_processed = scgpt.process_data(adata_unseen, gene_names = \"gene_name\", fine_tuning=True)\n",
        "else:\n",
        "    data_processed = scgpt.process_data(adata_unseen, gene_names = \"gene_name\")\n",
        "\n",
        "# Get embeddings and predictions\n",
        "x_unseen = scgpt.get_embeddings(data_processed)\n",
        "predictions_nn_unseen = head_model_scgpt(torch.Tensor(x_unseen))"
      ]
    },
    {
      "cell_type": "code",
      "execution_count": 26,
      "metadata": {},
      "outputs": [
        {
          "name": "stdout",
          "output_type": "stream",
          "text": [
            "Unseen evaluation set accuracy: 73.4%\n",
            "Unseen evaluation set precision: 72.5%\n",
            "Unseen evaluation set f1: 70.0%\n",
            "Unseen evaluation set recall: 74.3%\n",
            "{0: 'Bridge', 1: 'Chromaffin cells', 2: 'Neuroblasts', 3: 'SCPs', 4: 'connecting Chromaffin cells', 5: 'cycling Neuroblasts', 6: 'cycling SCPs', 7: 'late Chromaffin cells', 8: 'late Neuroblasts', 9: 'late SCPs'}\n"
          ]
        },
        {
          "data": {
            "image/png": "[encoded data removed]",
            "text/plain": [
              "<Figure size 640x480 with 1 Axes>"
            ]
          },
          "metadata": {},
          "output_type": "display_data"
        }
      ],
      "source": [
        "if final_task == \"evaluation\":\n",
        "    y_pred_unseen = np.array(torch.argmax(predictions_nn_unseen, dim=1))\n",
        "    y_true_unseen = np.array(adata_unseen.obs[ref_meta_colname].astype(\"category\").cat.codes)\n",
        "    get_evaluations(\"Unseen evaluation set\", y_true_unseen, y_pred_unseen)\n",
        "    plot.target_analysis(y_true_unseen)\n",
        "    print(id2type)\n",
        "elif final_task == \"target\":\n",
        "    save_annData_with_predictions = True\n",
        "\n",
        "    y_pred_unseen = [id2type[prediction] for prediction in np.array(torch.argmax(predictions_nn_unseen, dim=1))]\n",
        "    if save_annData_with_predictions:\n",
        "        adata_unseen.obs[\"cell_type_predictions\"] = y_pred_unseen\n",
        "        adata_unseen.obs.to_csv(filename_out_predictions)\n",
        "\n",
        "    print(adata_unseen.obs)\n"
      ]
    },
    {
      "cell_type": "markdown",
      "metadata": {
        "id": "CTDOE-0uLFAq"
      },
      "source": [
        "We should double check that the cell types are mapped to the correct id numbers for both the training data and this new data set."
      ]
    },
    {
      "cell_type": "code",
      "execution_count": null,
      "metadata": {
        "colab": {
          "base_uri": "https://localhost:8080/"
        },
        "id": "h0Z6ZTBEJuuY",
        "outputId": "afab8809-b893-42fc-865d-4149f181a3ab"
      },
      "outputs": [
        {
          "name": "stdout",
          "output_type": "stream",
          "text": [
            "True\n"
          ]
        }
      ],
      "source": []
    },
    {
      "cell_type": "code",
      "execution_count": null,
      "metadata": {
        "colab": {
          "base_uri": "https://localhost:8080/"
        },
        "id": "loLEKJr3qZvL",
        "outputId": "32ec87e0-96d3-4d5e-a1ae-6d3244e80ddb"
      },
      "outputs": [
        {
          "name": "stdout",
          "output_type": "stream",
          "text": [
            "Evaluation set accuracy: 73.4%\n",
            "Evaluation set precision: 72.5%\n",
            "Evaluation set f1: 70.0%\n",
            "Evaluation set recall: 74.3%\n"
          ]
        }
      ],
      "source": [
        "if final_task == \"evaluation\":\n",
        "    num_types = adata_unseen.obs[ref_meta_colname].unique().shape[0]\n",
        "    id2type_unseen = dict(enumerate(adata_unseen.obs[ref_meta_colname].astype(\"category\").cat.categories))\n",
        "    print(id2type_unseen == id2type)\n",
        "    \n",
        "if final_task == \"evaluation\":\n",
        "    y_true_unseen = np.array(adata_unseen.obs[ref_meta_colname].tolist())\n",
        "    y_pred_unseen = [id2type[prediction] for prediction in np.array(torch.argmax(predictions_nn_unseen, dim=1))]\n",
        "\n",
        "    scgpt_results = get_evaluations(\"Evaluation set\", y_true_unseen, y_pred_unseen)"
      ]
    },
    {
      "cell_type": "markdown",
      "metadata": {
        "id": "RgMbzX-z-BSm"
      },
      "source": [
        "Plot a confusion matrix to visualise the classification performance for each the cell type. This is done for the evalation set."
      ]
    },
    {
      "cell_type": "code",
      "execution_count": 29,
      "metadata": {
        "colab": {
          "base_uri": "https://localhost:8080/",
          "height": 1000
        },
        "id": "3f-apdJ4-BSm",
        "outputId": "3a195685-3539-4eb3-a90c-f029ecaf7949"
      },
      "outputs": [
        {
          "data": {
            "image/png": "[encoded data removed]",
            "text/plain": [
              "<Figure size 1200x1200 with 2 Axes>"
            ]
          },
          "metadata": {},
          "output_type": "display_data"
        }
      ],
      "source": [
        "if final_task == \"evaluation\":\n",
        "    from sklearn.metrics import confusion_matrix\n",
        "    import pandas as pd\n",
        "    import seaborn as sns\n",
        "    import matplotlib.pyplot as plt\n",
        "\n",
        "    set_predicted_cell_types = list(adata_unseen.obs[ref_meta_colname].unique())\n",
        "    for i in set(y_pred_unseen):\n",
        "        if i not in set_predicted_cell_types:\n",
        "            set_predicted_cell_types.remove(i)\n",
        "\n",
        "    cm = confusion_matrix(y_true_unseen, y_pred_unseen)\n",
        "    cm = cm.astype(\"float\") / cm.sum(axis=1)[:, np.newaxis]\n",
        "    cm = pd.DataFrame(cm, index=set_predicted_cell_types[:cm.shape[0]], columns=set_predicted_cell_types[:cm.shape[1]])\n",
        "    plt.figure(figsize=(12, 12))\n",
        "    sns.heatmap(cm, annot=True, fmt=\".1f\", cmap=\"Blues\")"
      ]
    },
    {
      "cell_type": "code",
      "execution_count": 30,
      "metadata": {},
      "outputs": [
        {
          "name": "stderr",
          "output_type": "stream",
          "text": [
            "WARNING:py.warnings:/home/lieke_unix/miniconda3/envs/singlecellgpt_env/lib/python3.12/site-packages/anndata/_io/h5ad.py:267: FutureWarning: Moving element from .uns['neighbors']['distances'] to .obsp['distances'].\n",
            "\n",
            "This is where adjacency matrices should go now.\n",
            "  return AnnData(\n",
            "\n"
          ]
        }
      ],
      "source": [
        "final_task = \"target\" # \"evaluation\" or \"target\"\n",
        "if final_task == \"target\":\n",
        "    adata_unseen = sc.read_h5ad(filename_target)\n",
        "    adata_unseen.X = adata_unseen.raw.X.copy()\n",
        "    adata_unseen.var[\"gene_name\"] = adata_unseen.var_names # \"Data must have the provided key 'gene_name' in its 'var' section to be processed by the Helical RNA model.\"\n",
        "elif final_task == \"evaluation\": \n",
        "    adata_unseen = adata_evaluation # AnnData preprocessing was done before the finetuning - evaluation split."
      ]
    },
    {
      "cell_type": "code",
      "execution_count": 31,
      "metadata": {},
      "outputs": [
        {
          "name": "stderr",
          "output_type": "stream",
          "text": [
            "INFO:helical.models.scgpt.model:Processing data for scGPT.\n",
            "INFO:helical.models.scgpt.model:Filtering out 10213 genes to a total of 23325 genes with an ID in the scGPT vocabulary.\n",
            "INFO:helical.models.scgpt.model:Successfully processed the data for scGPT.\n",
            "INFO:helical.models.scgpt.model:Started getting embeddings:\n",
            "WARNING:py.warnings:/home/lieke_unix/miniconda3/envs/singlecellgpt_env/lib/python3.12/site-packages/helical/models/scgpt/model.py:157: FutureWarning: `torch.cuda.amp.autocast(args...)` is deprecated. Please use `torch.amp.autocast('cuda', args...)` instead.\n",
            "  torch.cuda.amp.autocast(enabled=True),\n",
            "\n",
            "Embedding cells: 100%|██████████| 465/465 [03:25<00:00,  2.26it/s]\n",
            "INFO:helical.models.scgpt.model:Finished getting embeddings.\n"
          ]
        }
      ],
      "source": [
        "# Process the unseen data\n",
        "if Normalize_SubsetHighlyVariable:\n",
        "    data_processed = scgpt.process_data(adata_unseen, gene_names = \"gene_name\", fine_tuning=True)\n",
        "else:\n",
        "    data_processed = scgpt.process_data(adata_unseen, gene_names = \"gene_name\")\n",
        "\n",
        "# Get embeddings and predictions\n",
        "x_unseen = scgpt.get_embeddings(data_processed)\n",
        "predictions_nn_unseen = head_model_scgpt(torch.Tensor(x_unseen))"
      ]
    },
    {
      "cell_type": "code",
      "execution_count": 32,
      "metadata": {},
      "outputs": [
        {
          "name": "stdout",
          "output_type": "stream",
          "text": [
            "                           orig.ident  nCount_RNA  nFeature_RNA  percent.mt  \\\n",
            "-55sc_AAACGAACAAAGGAGA-1  aumc00055sc     11952.0          2746    3.781794   \n",
            "-55sc_AAACGAAGTGGTAATA-1  aumc00055sc     13567.0          2906    2.130169   \n",
            "-55sc_AAACGAATCGGAGATG-1  aumc00055sc      2510.0           877    3.227092   \n",
            "-55sc_AAACGCTCATTGGATC-1  aumc00055sc      9246.0          3471   12.372918   \n",
            "-55sc_AAAGGGCTCGGCTCTT-1  aumc00055sc     29112.0          4428    3.204864   \n",
            "...                               ...         ...           ...         ...   \n",
            "-57sc_TTTGACTAGACATACA-1  aumc00057sc      8120.0          3513   13.214286   \n",
            "-57sc_TTTGATCGTATCACCA-1  aumc00057sc     16879.0          3822    2.186148   \n",
            "-57sc_TTTGGAGAGCTGCGAA-1  aumc00057sc     20096.0          4006    2.328822   \n",
            "-57sc_TTTGGTTCAATCTGCA-1  aumc00057sc     13356.0          3728    5.817610   \n",
            "-57sc_TTTGGTTGTTCTTAGG-1  aumc00057sc      5566.0          2393    0.718649   \n",
            "\n",
            "                           S.Score  G2M.Score Phase  old.ident  CC.Difference  \\\n",
            "-55sc_AAACGAACAAAGGAGA-1 -0.134465  -0.187621    G1          4       0.053156   \n",
            "-55sc_AAACGAAGTGGTAATA-1 -0.210724  -0.056282    G1          4      -0.154441   \n",
            "-55sc_AAACGAATCGGAGATG-1  0.022925   0.220601   G2M          4      -0.197676   \n",
            "-55sc_AAACGCTCATTGGATC-1  0.331572   0.419019   G2M          4      -0.087448   \n",
            "-55sc_AAAGGGCTCGGCTCTT-1 -0.082497  -0.184785    G1          4       0.102288   \n",
            "...                            ...        ...   ...        ...            ...   \n",
            "-57sc_TTTGACTAGACATACA-1  0.325364   0.028933     S          6       0.296430   \n",
            "-57sc_TTTGATCGTATCACCA-1 -0.143610   0.053402   G2M          6      -0.197012   \n",
            "-57sc_TTTGGAGAGCTGCGAA-1 -0.056501   0.597055   G2M          6      -0.653557   \n",
            "-57sc_TTTGGTTCAATCTGCA-1 -0.192891  -0.245232    G1          6       0.052341   \n",
            "-57sc_TTTGGTTGTTCTTAGG-1 -0.154479  -0.279751    G1          6       0.125272   \n",
            "\n",
            "                         expgroup  ...  seurat_clusters  RNA_snn_res.0.2  \\\n",
            "-55sc_AAACGAACAAAGGAGA-1  control  ...                9                4   \n",
            "-55sc_AAACGAAGTGGTAATA-1  control  ...                7                1   \n",
            "-55sc_AAACGAATCGGAGATG-1  control  ...                2                3   \n",
            "-55sc_AAACGCTCATTGGATC-1  control  ...               10                2   \n",
            "-55sc_AAAGGGCTCGGCTCTT-1  control  ...                0                0   \n",
            "...                           ...  ...              ...              ...   \n",
            "-57sc_TTTGACTAGACATACA-1  relapse  ...               10                2   \n",
            "-57sc_TTTGATCGTATCACCA-1  relapse  ...                7                1   \n",
            "-57sc_TTTGGAGAGCTGCGAA-1  relapse  ...                1                1   \n",
            "-57sc_TTTGGTTCAATCTGCA-1  relapse  ...               11                0   \n",
            "-57sc_TTTGGTTGTTCTTAGG-1  relapse  ...                8                2   \n",
            "\n",
            "                          RNA_snn_res.0.3  RNA_snn_res.0.4  RNA_snn_res.0.5  \\\n",
            "-55sc_AAACGAACAAAGGAGA-1                6                6                6   \n",
            "-55sc_AAACGAAGTGGTAATA-1                5                5                4   \n",
            "-55sc_AAACGAATCGGAGATG-1                3                3                2   \n",
            "-55sc_AAACGCTCATTGGATC-1                2                2                7   \n",
            "-55sc_AAAGGGCTCGGCTCTT-1                0                0                0   \n",
            "...                                   ...              ...              ...   \n",
            "-57sc_TTTGACTAGACATACA-1                2                2                7   \n",
            "-57sc_TTTGATCGTATCACCA-1                5                5                4   \n",
            "-57sc_TTTGGAGAGCTGCGAA-1                1                1                1   \n",
            "-57sc_TTTGGTTCAATCTGCA-1                0                7                8   \n",
            "-57sc_TTTGGTTGTTCTTAGG-1                2                2                5   \n",
            "\n",
            "                          RNA_snn_res.0.6  RNA_snn_res.0.7  RNA_snn_res.0.8  \\\n",
            "-55sc_AAACGAACAAAGGAGA-1                7                8                9   \n",
            "-55sc_AAACGAAGTGGTAATA-1                5                7                7   \n",
            "-55sc_AAACGAATCGGAGATG-1                2                3                2   \n",
            "-55sc_AAACGCTCATTGGATC-1                8                9               10   \n",
            "-55sc_AAAGGGCTCGGCTCTT-1                1                0                0   \n",
            "...                                   ...              ...              ...   \n",
            "-57sc_TTTGACTAGACATACA-1                8                9               10   \n",
            "-57sc_TTTGATCGTATCACCA-1                5                7                7   \n",
            "-57sc_TTTGGAGAGCTGCGAA-1                0                1                1   \n",
            "-57sc_TTTGGTTCAATCTGCA-1                9               10               11   \n",
            "-57sc_TTTGGTTGTTCTTAGG-1                6                6                8   \n",
            "\n",
            "                          total_counts        cell_type_predictions  \n",
            "-55sc_AAACGAACAAAGGAGA-1       11952.0  connecting Chromaffin cells  \n",
            "-55sc_AAACGAAGTGGTAATA-1       13567.0  connecting Chromaffin cells  \n",
            "-55sc_AAACGAATCGGAGATG-1        2510.0                         SCPs  \n",
            "-55sc_AAACGCTCATTGGATC-1        9246.0  connecting Chromaffin cells  \n",
            "-55sc_AAAGGGCTCGGCTCTT-1       29112.0  connecting Chromaffin cells  \n",
            "...                                ...                          ...  \n",
            "-57sc_TTTGACTAGACATACA-1        8120.0                  Neuroblasts  \n",
            "-57sc_TTTGATCGTATCACCA-1       16879.0  connecting Chromaffin cells  \n",
            "-57sc_TTTGGAGAGCTGCGAA-1       20096.0  connecting Chromaffin cells  \n",
            "-57sc_TTTGGTTCAATCTGCA-1       13356.0  connecting Chromaffin cells  \n",
            "-57sc_TTTGGTTGTTCTTAGG-1        5566.0                       Bridge  \n",
            "\n",
            "[23245 rows x 21 columns]\n"
          ]
        }
      ],
      "source": [
        "if final_task == \"evaluation\":\n",
        "    y_pred_unseen = np.array(torch.argmax(predictions_nn_unseen, dim=1))\n",
        "    y_true_unseen = np.array(adata_unseen.obs[ref_meta_colname].astype(\"category\").cat.codes)\n",
        "    get_evaluations(\"Unseen evaluation set\", y_true_unseen, y_pred_unseen)\n",
        "    plot.target_analysis(y_true_unseen)\n",
        "    print(id2type)\n",
        "elif final_task == \"target\":\n",
        "    save_annData_with_predictions = True\n",
        "\n",
        "    y_pred_unseen = [id2type[prediction] for prediction in np.array(torch.argmax(predictions_nn_unseen, dim=1))]\n",
        "    if save_annData_with_predictions:\n",
        "        adata_unseen.obs[\"cell_type_predictions\"] = y_pred_unseen\n",
        "        adata_unseen.obs.to_csv(filename_out_predictions)\n",
        "\n",
        "    print(adata_unseen.obs)\n"
      ]
    },
    {
      "cell_type": "markdown",
      "metadata": {
        "id": "XdG0swPrC5sh"
      },
      "source": [
        "# Geneformer"
      ]
    },
    {
      "cell_type": "markdown",
      "metadata": {
        "id": "HFS3y-NmT60Q"
      },
      "source": [
        "Let's do the same with the Geneformer."
      ]
    },
    {
      "cell_type": "code",
      "execution_count": 30,
      "metadata": {
        "colab": {
          "base_uri": "https://localhost:8080/",
          "height": 285,
          "referenced_widgets": [
            "9be7ad77cfbb4aebbf850bce0d703286",
            "96cf6bd80b23485a91309f97fceae386",
            "6793d6aa02fe4992b2a3079935804e68",
            "8b87146682714f9394465afb70fb6296",
            "8602ffeb4a5548f3b88e0011ff526b60",
            "dd28b99c3789438ba123044f9d8bd481",
            "11d0b1de79104633bd46099d3fc9f845",
            "b0387ec16b2346d6a690f8bd8ef7aae9",
            "0fcbdfa61d8c47499ea91c045e6bdb88",
            "475e8bc25e844eb7bda64024f6fd328b",
            "06b297ce68a54494925355922e6a3e60",
            "129fbaa5b93146839d3e095e066689b2",
            "75250bb34c7a4816bb50bab813367823",
            "18e7db16f29b4c5fb37b12b7ecabd994",
            "811ae6f2713942459f44a8ad0b78f1c8",
            "8333081f6e6844fb9872d9d14b9798f4",
            "1a9866fd593a4773a9336548d9fb4e7c",
            "6105972c9a224bb2b83c39d498d82694",
            "ac8fd8833f8b434c98ebf9de7fd7c956",
            "746baf43caea4ee2831817691b968573",
            "94072eee12234d52906f701dbaec4ea7",
            "0ba9a6eb6f0c4d63ae804a09f5d3b7a5"
          ]
        },
        "id": "5P_7jNYDqbYp",
        "outputId": "2fcd4258-77bb-47f1-94fd-6e9742f02e04"
      },
      "outputs": [
        {
          "name": "stderr",
          "output_type": "stream",
          "text": [
            "INFO:helical.models.geneformer.model:Model finished initializing.\n",
            "INFO:helical.models.geneformer.model:'gf-12L-38M-i4096' model is in 'eval' mode, on device 'cuda' with embedding mode 'cell'.\n",
            "INFO:helical.models.geneformer.model:Processing data for Geneformer.\n",
            "INFO:pyensembl.sequence_data:Loaded sequence dictionary from /home/sarper_unix/.cache/pyensembl/GRCh38/ensembl110/Homo_sapiens.GRCh38.cdna.all.fa.gz.pickle\n",
            "INFO:pyensembl.sequence_data:Loaded sequence dictionary from /home/sarper_unix/.cache/pyensembl/GRCh38/ensembl110/Homo_sapiens.GRCh38.ncrna.fa.gz.pickle\n",
            "INFO:pyensembl.sequence_data:Loaded sequence dictionary from /home/sarper_unix/.cache/pyensembl/GRCh38/ensembl110/Homo_sapiens.GRCh38.pep.all.fa.gz.pickle\n",
            "INFO:helical.utils.mapping:Mapped 17555 genes to Ensembl IDs from a total of 28422 genes.\n",
            "INFO:helical.models.geneformer.geneformer_tokenizer:AnnData object with n_obs × n_vars = 8024 × 28422\n",
            "    obs: 'orig.ident', 'nCount_RNA', 'nFeature_RNA', 'percent.mt', 'S.Score', 'G2M.Score', 'Phase', 'old.ident', 'CC.Difference', 'RNA_snn_res.1', 'seurat_clusters', 'pANN_0.25_0.26_905', 'DF.classifications_0.25_0.26_905', 'pANN_0.25_0.26_1131', 'DF.classifications_0.25_0.26_1131', 'timepoint', 'timepoint2', 'doublet8', 'doublet10', 'pANN_0.25_0.005_878', 'DF.classifications_0.25_0.005_878', 'pANN_0.25_0.05_878', 'DF.classifications_0.25_0.05_878', 'pANN_0.25_0.05_1098', 'DF.classifications_0.25_0.05_1098', 'pANN_0.25_0.005_222', 'DF.classifications_0.25_0.005_222', 'pANN_0.25_0.005_277', 'DF.classifications_0.25_0.005_277', 'RNA_snn_res.1.2', 'pANN_0.25_0.005_0', 'DF.classifications_0.25_0.005_0', 'pANN_0.25_0.3_774', 'DF.classifications_0.25_0.3_774', 'pANN_0.25_0.3_619', 'DF.classifications_0.25_0.3_619', 'pANN_0.25_0.02_0', 'DF.classifications_0.25_0.02_0', 'pANN_0.25_0.18_115', 'DF.classifications_0.25_0.18_115', 'pANN_0.25_0.18_92', 'DF.classifications_0.25_0.18_92', 'pANN_0.25_0.24_0', 'DF.classifications_0.25_0.24_0', 'pANN_0.25_0.24_577', 'DF.classifications_0.25_0.24_577', 'pANN_0.25_0.24_461', 'DF.classifications_0.25_0.24_461', 'pANN_0.25_0.07_0', 'DF.classifications_0.25_0.07_0', 'pANN_0.25_0.19_930', 'DF.classifications_0.25_0.19_930', 'pANN_0.25_0.19_744', 'DF.classifications_0.25_0.19_744', 'pANN_0.25_0.18_0', 'DF.classifications_0.25_0.18_0', 'pANN_0.25_0.27_790', 'DF.classifications_0.25_0.27_790', 'pANN_0.25_0.27_632', 'DF.classifications_0.25_0.27_632', 'pANN_0.25_0.28_632', 'DF.classifications_0.25_0.28_632', 'pANN_0.25_0.28_506', 'DF.classifications_0.25_0.28_506', 'pANN_0.25_0.005_639', 'DF.classifications_0.25_0.005_639', 'pANN_0.25_0.005_511', 'DF.classifications_0.25_0.005_511', 'pANN_0.25_0.005_767', 'DF.classifications_0.25_0.005_767', 'pANN_0.25_0.005_614', 'DF.classifications_0.25_0.005_614', 'pANN_0.25_0.005_694', 'DF.classifications_0.25_0.005_694', 'pANN_0.25_0.005_555', 'DF.classifications_0.25_0.005_555', 'pANN_0.25_0.01_0', 'DF.classifications_0.25_0.01_0', 'pANN_0.25_0.005_691', 'DF.classifications_0.25_0.005_691', 'pANN_0.25_0.005_553', 'DF.classifications_0.25_0.005_553', 'pANN_0.25_0.3_0', 'DF.classifications_0.25_0.3_0', 'pANN_0.25_0.08_1174', 'DF.classifications_0.25_0.08_1174', 'pANN_0.25_0.08_939', 'DF.classifications_0.25_0.08_939', 'pANN_0.25_0.02_777', 'DF.classifications_0.25_0.02_777', 'pANN_0.25_0.02_621', 'DF.classifications_0.25_0.02_621', 'pANN_0.25_0.005_626', 'DF.classifications_0.25_0.005_626', 'pANN_0.25_0.005_501', 'DF.classifications_0.25_0.005_501', 'pANN_0.25_0.23_0', 'DF.classifications_0.25_0.23_0', 'pANN_0.25_0.24_1356', 'DF.classifications_0.25_0.24_1356', 'pANN_0.25_0.24_1085', 'DF.classifications_0.25_0.24_1085', 'RNA_snn_res.5', 'gland_clusters', 'active_ident_celltypes', 'total_counts'\n",
            "    var: 'vst.mean', 'vst.variance', 'vst.variance.expected', 'vst.variance.standardized', 'vst.variable', 'gene_name', 'id_in_vocab', 'ensembl_id', 'gene_ids_collapsed'\n",
            "    obsm: 'X_pca', 'X_umap'\n",
            "    varm: 'PCs' has no column attribute 'filter_pass'; tokenizing all cells.\n",
            "INFO:helical.models.geneformer.geneformer_tokenizer:Creating dataset.\n",
            "Map: 100%|██████████| 8024/8024 [00:04<00:00, 1855.15 examples/s]\n",
            "INFO:helical.models.geneformer.model:Successfully processed the data for Geneformer.\n",
            "INFO:helical.models.geneformer.model:Started getting embeddings:\n",
            "WARNING:helical.models.geneformer.geneformer_utils:CLS token present in token dictionary, excluding from average.\n",
            "WARNING:helical.models.geneformer.geneformer_utils:EOS token present in token dictionary, excluding from average.\n",
            "100%|██████████| 161/161 [2:12:31<00:00, 49.39s/it] \n",
            "INFO:helical.models.geneformer.model:Finished getting embeddings.\n"
          ]
        },
        {
          "data": {
            "text/plain": [
              "(8024, 512)"
            ]
          },
          "execution_count": 30,
          "metadata": {},
          "output_type": "execute_result"
        }
      ],
      "source": [
        "device = \"cuda\" if torch.cuda.is_available() else \"cpu\"\n",
        "if 'rows' in adata.obs:\n",
        "    adata_finetuning.obs['rows'] = adata_finetuning.obs['rows'].astype(str)\n",
        "geneformer_config = GeneformerConfig(batch_size=50, device=device)\n",
        "geneformer = Geneformer(configurer = geneformer_config)\n",
        "\n",
        "data_geneformer = geneformer.process_data(adata_finetuning, gene_names = \"gene_name\")\n",
        "x_geneformer = geneformer.get_embeddings(data_geneformer)\n",
        "x_geneformer.shape"
      ]
    },
    {
      "cell_type": "code",
      "execution_count": 31,
      "metadata": {
        "colab": {
          "base_uri": "https://localhost:8080/"
        },
        "id": "ITj-Gd-TDIcu",
        "outputId": "4946c091-3340-4332-e208-2ab2fc46f15e"
      },
      "outputs": [
        {
          "name": "stdout",
          "output_type": "stream",
          "text": [
            "Epoch 1, Validation Loss: 1.1014015491192157\n",
            "Epoch 2, Validation Loss: 0.6333962816458482\n",
            "Epoch 3, Validation Loss: 0.4886948512150691\n",
            "Epoch 4, Validation Loss: 0.42000423257167524\n",
            "Epoch 5, Validation Loss: 0.4195136519578787\n",
            "Epoch 6, Validation Loss: 0.386587156699254\n",
            "Epoch 7, Validation Loss: 0.3638423681259155\n",
            "Epoch 8, Validation Loss: 0.36238491993684036\n",
            "Epoch 9, Validation Loss: 0.3416837728940524\n",
            "Epoch 10, Validation Loss: 0.34537209341159236\n",
            "Epoch 11, Validation Loss: 0.33101881123506105\n",
            "Epoch 12, Validation Loss: 0.32591029887016004\n",
            "Epoch 13, Validation Loss: 0.3346465229988098\n",
            "Epoch 14, Validation Loss: 0.3153350674189054\n",
            "Epoch 15, Validation Loss: 0.31784011882085067\n",
            "Epoch 16, Validation Loss: 0.3035476127496132\n",
            "Epoch 17, Validation Loss: 0.3121848782667747\n",
            "Epoch 18, Validation Loss: 0.2905778896350127\n",
            "Epoch 19, Validation Loss: 0.30400814574498397\n",
            "Epoch 20, Validation Loss: 0.3133898251331769\n",
            "Epoch 21, Validation Loss: 0.3093366130040242\n",
            "Epoch 22, Validation Loss: 0.29343259449188525\n",
            "Epoch 23, Validation Loss: 0.29394403329262364\n",
            "Epoch 24, Validation Loss: 0.31387901535400975\n",
            "Epoch 25, Validation Loss: 0.319498020869035\n",
            "Epoch 26, Validation Loss: 0.28299757838249207\n",
            "Epoch 27, Validation Loss: 0.28024875200711763\n",
            "Epoch 28, Validation Loss: 0.2956221837263841\n",
            "Epoch 29, Validation Loss: 0.2838247074530675\n",
            "Epoch 30, Validation Loss: 0.28556768940045285\n",
            "Epoch 31, Validation Loss: 0.27744465263990253\n",
            "Epoch 32, Validation Loss: 0.2963049767109064\n",
            "Epoch 33, Validation Loss: 0.3111429237402402\n",
            "Epoch 34, Validation Loss: 0.27776795625686646\n",
            "Epoch 35, Validation Loss: 0.28911055280612064\n",
            "Epoch 36, Validation Loss: 0.29138171157011616\n",
            "Epoch 37, Validation Loss: 0.2906275540590286\n",
            "Epoch 38, Validation Loss: 0.28412443227492845\n",
            "Epoch 39, Validation Loss: 0.2730778662058023\n",
            "Epoch 40, Validation Loss: 0.29002613860827225\n",
            "Epoch 41, Validation Loss: 0.2817098481150774\n",
            "Epoch 42, Validation Loss: 0.28210376776181734\n",
            "Epoch 43, Validation Loss: 0.297750235750125\n",
            "Epoch 44, Validation Loss: 0.27778914456184095\n",
            "Epoch 45, Validation Loss: 0.2815525480187856\n",
            "Epoch 46, Validation Loss: 0.2873169149343784\n",
            "Epoch 47, Validation Loss: 0.29890261590480804\n",
            "Epoch 48, Validation Loss: 0.2939773373878919\n",
            "Epoch 49, Validation Loss: 0.2884326772047923\n",
            "Epoch 50, Validation Loss: 0.30304645001888275\n",
            "Epoch 51, Validation Loss: 0.2764870793773578\n",
            "Epoch 52, Validation Loss: 0.28587083289256465\n",
            "Epoch 53, Validation Loss: 0.2634014699321527\n",
            "Epoch 54, Validation Loss: 0.3029893304292972\n",
            "Epoch 55, Validation Loss: 0.2945525319530414\n",
            "Epoch 56, Validation Loss: 0.2788148814669022\n",
            "Epoch 57, Validation Loss: 0.27677637281326145\n",
            "Epoch 58, Validation Loss: 0.2694471220557506\n",
            "Epoch 59, Validation Loss: 0.2806112112907263\n",
            "Epoch 60, Validation Loss: 0.2942769292455453\n",
            "Epoch 61, Validation Loss: 0.28405857430054593\n",
            "Epoch 62, Validation Loss: 0.29765668454078525\n",
            "Epoch 63, Validation Loss: 0.28985889141376203\n",
            "Epoch 64, Validation Loss: 0.295754170188537\n",
            "Epoch 65, Validation Loss: 0.3200207765285785\n",
            "Epoch 66, Validation Loss: 0.28544239642528385\n",
            "Epoch 67, Validation Loss: 0.31637870291104686\n",
            "Epoch 68, Validation Loss: 0.2867824114285983\n",
            "Epoch 69, Validation Loss: 0.30507043634469694\n",
            "Epoch 70, Validation Loss: 0.27614996467645353\n",
            "Epoch 71, Validation Loss: 0.2830396925027554\n",
            "Epoch 72, Validation Loss: 0.28228185096612346\n",
            "Epoch 73, Validation Loss: 0.29284616158558774\n",
            "Epoch 74, Validation Loss: 0.2995693265245511\n",
            "Epoch 75, Validation Loss: 0.3081123616832953\n",
            "Epoch 76, Validation Loss: 0.28625532870109266\n",
            "Epoch 77, Validation Loss: 0.31229885724874645\n",
            "Epoch 78, Validation Loss: 0.2803035464424353\n",
            "Epoch 79, Validation Loss: 0.29060989503677076\n",
            "Epoch 80, Validation Loss: 0.2925131842494011\n",
            "Epoch 81, Validation Loss: 0.2974337895329182\n",
            "Epoch 82, Validation Loss: 0.30817631861338246\n",
            "Epoch 83, Validation Loss: 0.2927351175592496\n",
            "Epoch 84, Validation Loss: 0.29554021186553514\n",
            "Epoch 85, Validation Loss: 0.3013067383032579\n",
            "Epoch 86, Validation Loss: 0.30334483889433056\n",
            "Epoch 87, Validation Loss: 0.30241135679758513\n",
            "Epoch 88, Validation Loss: 0.28475394271887267\n",
            "Epoch 89, Validation Loss: 0.284045299085287\n",
            "Epoch 90, Validation Loss: 0.2976741991364039\n",
            "Epoch 91, Validation Loss: 0.2983354822947429\n",
            "Epoch 92, Validation Loss: 0.28061659977986264\n",
            "Epoch 93, Validation Loss: 0.31118485904656923\n",
            "Epoch 94, Validation Loss: 0.28420027460043246\n",
            "Epoch 95, Validation Loss: 0.29435473336623263\n",
            "Epoch 96, Validation Loss: 0.3143014575426395\n",
            "Epoch 97, Validation Loss: 0.2941471292422368\n",
            "Epoch 98, Validation Loss: 0.308952350455981\n",
            "Epoch 99, Validation Loss: 0.2913280433187118\n",
            "Epoch 100, Validation Loss: 0.3084091945336415\n"
          ]
        }
      ],
      "source": [
        "X_train, X_test, y_train, y_test = train_test_split(x_geneformer, y_encoded, test_size=0.1, random_state=42)\n",
        "\n",
        "head_model_geneformer = deepcopy(head_model)\n",
        "head_model_geneformer = train_model(head_model_geneformer,\n",
        "                                    torch.tensor(X_train),\n",
        "                                    y_train,\n",
        "                                    torch.tensor(X_test),\n",
        "                                    y_test,\n",
        "                                    optim.Adam(head_model_geneformer.parameters(), lr=0.001),\n",
        "                                    nn.CrossEntropyLoss())"
      ]
    },
    {
      "cell_type": "code",
      "execution_count": 32,
      "metadata": {
        "colab": {
          "base_uri": "https://localhost:8080/",
          "height": 156,
          "referenced_widgets": [
            "042588def40e42848c464da311dfa395",
            "9f06f76e74ba4d4493a2b3810fa78501",
            "afde76acb7cd4642967e74fc01cc5e60",
            "bed90884638d44a1a0e8f2002485a49c",
            "577aff58497a41afb68c49c4e4a3483c",
            "e6639753498c44abbb25f2dd39f224a6",
            "0ae5dd4c69154c36ac6409002dbfdbe3",
            "98077a70b5aa4738b2f9ce21fc8a76f8",
            "6c0eae3868aa4ea98c7c1106aba4cb84",
            "08d07e9439494aa895b90bda386cd2d9",
            "c284a26712fc46a49f40081765203b11",
            "9e58f857ee8a43ac94614686ba82cf82",
            "21078359f8b64f1f9e5b70fbb559ac5e",
            "0536305995ae41b989c00348dec37a50",
            "da40c55164824b2e81fef416cea0bdf3",
            "45e0ffdc378040c8b8fb62172c321be5",
            "031f15e503284b6e989e599834bc0cfc",
            "d6a09da0033a4fff88ce7ad041ea5151",
            "44164c48e4774fd28c8e7514e26dfec3",
            "7fba8d16f48b451ba2695e7d8d0c605b",
            "8f571f239ad54eb19d35da67e47ddea9",
            "fb07aa128c734c1396a8d2e8e46dfd7e"
          ]
        },
        "id": "ycWcn3Ra1YbG",
        "outputId": "8e38e24d-261d-4d77-b704-a8d3c6df9b73"
      },
      "outputs": [
        {
          "name": "stderr",
          "output_type": "stream",
          "text": [
            "INFO:helical.models.geneformer.model:Processing data for Geneformer.\n",
            "INFO:pyensembl.sequence_data:Loaded sequence dictionary from /home/sarper_unix/.cache/pyensembl/GRCh38/ensembl110/Homo_sapiens.GRCh38.cdna.all.fa.gz.pickle\n",
            "INFO:pyensembl.sequence_data:Loaded sequence dictionary from /home/sarper_unix/.cache/pyensembl/GRCh38/ensembl110/Homo_sapiens.GRCh38.ncrna.fa.gz.pickle\n",
            "INFO:pyensembl.sequence_data:Loaded sequence dictionary from /home/sarper_unix/.cache/pyensembl/GRCh38/ensembl110/Homo_sapiens.GRCh38.pep.all.fa.gz.pickle\n",
            "INFO:helical.utils.mapping:Mapped 17555 genes to Ensembl IDs from a total of 28422 genes.\n",
            "INFO:helical.models.geneformer.geneformer_tokenizer:AnnData object with n_obs × n_vars = 2715 × 28422\n",
            "    obs: 'orig.ident', 'nCount_RNA', 'nFeature_RNA', 'percent.mt', 'S.Score', 'G2M.Score', 'Phase', 'old.ident', 'CC.Difference', 'RNA_snn_res.1', 'seurat_clusters', 'pANN_0.25_0.26_905', 'DF.classifications_0.25_0.26_905', 'pANN_0.25_0.26_1131', 'DF.classifications_0.25_0.26_1131', 'timepoint', 'timepoint2', 'doublet8', 'doublet10', 'pANN_0.25_0.005_878', 'DF.classifications_0.25_0.005_878', 'pANN_0.25_0.05_878', 'DF.classifications_0.25_0.05_878', 'pANN_0.25_0.05_1098', 'DF.classifications_0.25_0.05_1098', 'pANN_0.25_0.005_222', 'DF.classifications_0.25_0.005_222', 'pANN_0.25_0.005_277', 'DF.classifications_0.25_0.005_277', 'RNA_snn_res.1.2', 'pANN_0.25_0.005_0', 'DF.classifications_0.25_0.005_0', 'pANN_0.25_0.3_774', 'DF.classifications_0.25_0.3_774', 'pANN_0.25_0.3_619', 'DF.classifications_0.25_0.3_619', 'pANN_0.25_0.02_0', 'DF.classifications_0.25_0.02_0', 'pANN_0.25_0.18_115', 'DF.classifications_0.25_0.18_115', 'pANN_0.25_0.18_92', 'DF.classifications_0.25_0.18_92', 'pANN_0.25_0.24_0', 'DF.classifications_0.25_0.24_0', 'pANN_0.25_0.24_577', 'DF.classifications_0.25_0.24_577', 'pANN_0.25_0.24_461', 'DF.classifications_0.25_0.24_461', 'pANN_0.25_0.07_0', 'DF.classifications_0.25_0.07_0', 'pANN_0.25_0.19_930', 'DF.classifications_0.25_0.19_930', 'pANN_0.25_0.19_744', 'DF.classifications_0.25_0.19_744', 'pANN_0.25_0.18_0', 'DF.classifications_0.25_0.18_0', 'pANN_0.25_0.27_790', 'DF.classifications_0.25_0.27_790', 'pANN_0.25_0.27_632', 'DF.classifications_0.25_0.27_632', 'pANN_0.25_0.28_632', 'DF.classifications_0.25_0.28_632', 'pANN_0.25_0.28_506', 'DF.classifications_0.25_0.28_506', 'pANN_0.25_0.005_639', 'DF.classifications_0.25_0.005_639', 'pANN_0.25_0.005_511', 'DF.classifications_0.25_0.005_511', 'pANN_0.25_0.005_767', 'DF.classifications_0.25_0.005_767', 'pANN_0.25_0.005_614', 'DF.classifications_0.25_0.005_614', 'pANN_0.25_0.005_694', 'DF.classifications_0.25_0.005_694', 'pANN_0.25_0.005_555', 'DF.classifications_0.25_0.005_555', 'pANN_0.25_0.01_0', 'DF.classifications_0.25_0.01_0', 'pANN_0.25_0.005_691', 'DF.classifications_0.25_0.005_691', 'pANN_0.25_0.005_553', 'DF.classifications_0.25_0.005_553', 'pANN_0.25_0.3_0', 'DF.classifications_0.25_0.3_0', 'pANN_0.25_0.08_1174', 'DF.classifications_0.25_0.08_1174', 'pANN_0.25_0.08_939', 'DF.classifications_0.25_0.08_939', 'pANN_0.25_0.02_777', 'DF.classifications_0.25_0.02_777', 'pANN_0.25_0.02_621', 'DF.classifications_0.25_0.02_621', 'pANN_0.25_0.005_626', 'DF.classifications_0.25_0.005_626', 'pANN_0.25_0.005_501', 'DF.classifications_0.25_0.005_501', 'pANN_0.25_0.23_0', 'DF.classifications_0.25_0.23_0', 'pANN_0.25_0.24_1356', 'DF.classifications_0.25_0.24_1356', 'pANN_0.25_0.24_1085', 'DF.classifications_0.25_0.24_1085', 'RNA_snn_res.5', 'gland_clusters', 'active_ident_celltypes', 'total_counts'\n",
            "    var: 'vst.mean', 'vst.variance', 'vst.variance.expected', 'vst.variance.standardized', 'vst.variable', 'gene_name', 'id_in_vocab', 'ensembl_id', 'gene_ids_collapsed'\n",
            "    obsm: 'X_pca', 'X_umap'\n",
            "    varm: 'PCs' has no column attribute 'filter_pass'; tokenizing all cells.\n",
            "INFO:helical.models.geneformer.geneformer_tokenizer:Creating dataset.\n",
            "Map: 100%|██████████| 2715/2715 [00:01<00:00, 1909.16 examples/s]\n",
            "INFO:helical.models.geneformer.model:Successfully processed the data for Geneformer.\n",
            "INFO:helical.models.geneformer.model:Started getting embeddings:\n",
            "WARNING:helical.models.geneformer.geneformer_utils:CLS token present in token dictionary, excluding from average.\n",
            "WARNING:helical.models.geneformer.geneformer_utils:EOS token present in token dictionary, excluding from average.\n",
            "100%|██████████| 55/55 [36:31<00:00, 39.85s/it]\n",
            "INFO:helical.models.geneformer.model:Finished getting embeddings.\n"
          ]
        }
      ],
      "source": [
        "data_unseen_geneformer = geneformer.process_data(adata_unseen, gene_names = \"gene_name\")\n",
        "x_unseen_geneformer = geneformer.get_embeddings(data_unseen_geneformer)\n",
        "predictions_nn_unseen_geneformer = head_model_geneformer(torch.Tensor(x_unseen_geneformer))"
      ]
    },
    {
      "cell_type": "code",
      "execution_count": 38,
      "metadata": {
        "colab": {
          "base_uri": "https://localhost:8080/"
        },
        "id": "eR8jNVcrEMRR",
        "outputId": "5d4ff27a-3bbb-409d-db36-61f787dc1b0e"
      },
      "outputs": [
        {
          "name": "stdout",
          "output_type": "stream",
          "text": [
            "Evaluation set accuracy: 99.2%\n",
            "Evaluation set precision: 89.5%\n",
            "Evaluation set f1: 84.1%\n",
            "Evaluation set recall: 82.0%\n"
          ]
        }
      ],
      "source": [
        "y_true_unseen = np.array(adata_unseen.obs[\"LVL1\"].tolist())\n",
        "y_pred_unseen = [id2type[prediction] for prediction in np.array(torch.argmax(predictions_nn_unseen_geneformer, dim=1))]\n",
        "\n",
        "geneformer_results = get_evaluations(\"Evaluation set\", y_true_unseen, y_pred_unseen)"
      ]
    },
    {
      "cell_type": "code",
      "execution_count": 39,
      "metadata": {
        "colab": {
          "base_uri": "https://localhost:8080/",
          "height": 990
        },
        "id": "sK4UqSqQFSaS",
        "outputId": "b1d94806-ed84-4061-d50b-d6b567df66f4"
      },
      "outputs": [
        {
          "data": {
            "image/png": "[encoded data removed]",
            "text/plain": [
              "<Figure size 1000x1000 with 4 Axes>"
            ]
          },
          "metadata": {},
          "output_type": "display_data"
        }
      ],
      "source": [
        "import matplotlib.pyplot as plt\n",
        "\n",
        "fig, axs = plt.subplots(2, 2, figsize=(10, 10))\n",
        "\n",
        "values_1 = [scgpt_results[\"accuracy\"], geneformer_results[\"accuracy\"]]\n",
        "x = [\"scGPT\", \"Geneformer\"]\n",
        "axs[0, 0].bar(x, values_1, width=0.4)\n",
        "axs[0, 0].set_title(\"Accuracy\")\n",
        "axs[0, 0].set_ylim([0, 1])\n",
        "\n",
        "values_2 = [scgpt_results[\"precision\"], geneformer_results[\"precision\"]]\n",
        "axs[0, 1].bar(x, values_2, width=0.4)\n",
        "axs[0, 1].set_title(\"Precision\")\n",
        "axs[0, 1].set_ylim([0, 1])\n",
        "\n",
        "values_3 = [scgpt_results[\"f1\"], geneformer_results[\"f1\"]]\n",
        "axs[1, 0].bar(x, values_3, width=0.4)\n",
        "axs[1, 0].set_title(\"F1\")\n",
        "axs[1, 0].set_ylim([0, 1])\n",
        "\n",
        "values_4 = [scgpt_results[\"recall\"], geneformer_results[\"recall\"]]\n",
        "axs[1, 1].bar(x, values_4, width=0.4)\n",
        "axs[1, 1].set_title(\"Recall\")\n",
        "axs[1, 1].set_ylim([0, 1])\n",
        "\n",
        "fig.suptitle(\"scGPT vs. Geneformer \\n Probing Comparison\")\n",
        "fig.tight_layout()\n",
        "plt.show()\n"
      ]
    },
    {
      "cell_type": "markdown",
      "metadata": {
        "id": "W4yqDgBPMNhX"
      },
      "source": [
        "\n",
        "## scGPT\n",
        "- Accuracy: 99.2%\n",
        "- Precision: 90.8%\n",
        "- Recall: 79.1%\n",
        "- Macro F1: 80.7%\n",
        "\n",
        "## Geneformer\n",
        "- Accuracy: 98.9%\n",
        "- Precision: 71.6%\n",
        "- Recall: 73.6%\n",
        "- Macro F1: 77.3%"
      ]
    },
    {
      "cell_type": "markdown",
      "metadata": {
        "id": "lWIqKZvET60U"
      },
      "source": [
        " (c) Helical 2024 - Developed by the Helical Team"
      ]
    }
  ],
  "metadata": {
    "colab": {
      "provenance": []
    },
    "kernelspec": {
      "display_name": "singlecellgpt_env",
      "language": "python",
      "name": "python3"
    },
    "language_info": {
      "codemirror_mode": {
        "name": "ipython",
        "version": 3
      },
      "file_extension": ".py",
      "mimetype": "text/x-python",
      "name": "python",
      "nbconvert_exporter": "python",
      "pygments_lexer": "ipython3",
      "version": "3.12.7"
    }
  },
  "nbformat": 4,
  "nbformat_minor": 0
}
